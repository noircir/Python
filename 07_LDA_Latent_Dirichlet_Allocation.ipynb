{
  "nbformat": 4,
  "nbformat_minor": 0,
  "metadata": {
    "colab": {
      "name": "07-LDA-Latent-Dirichlet-Allocation.ipynb",
      "provenance": [],
      "collapsed_sections": [],
      "mount_file_id": "18uA9AApxl7tVvS8iTQeC4l9NszQN-VVr",
      "authorship_tag": "ABX9TyNBfwDpS31gCFGoGL/j5ipA",
      "include_colab_link": true
    },
    "kernelspec": {
      "name": "python3",
      "display_name": "Python 3"
    }
  },
  "cells": [
    {
      "cell_type": "markdown",
      "metadata": {
        "id": "view-in-github",
        "colab_type": "text"
      },
      "source": [
        "<a href=\"https://colab.research.google.com/github/noircir/Python/blob/master/07_LDA_Latent_Dirichlet_Allocation.ipynb\" target=\"_parent\"><img src=\"https://colab.research.google.com/assets/colab-badge.svg\" alt=\"Open In Colab\"/></a>"
      ]
    },
    {
      "cell_type": "markdown",
      "metadata": {
        "id": "0WJsuuFwE-GL",
        "colab_type": "text"
      },
      "source": [
        "# Latent Dirichlet Allocation"
      ]
    },
    {
      "cell_type": "markdown",
      "metadata": {
        "id": "ppTEB6GSyyuw",
        "colab_type": "text"
      },
      "source": [
        "Add more documents: each document is a line of text in a pandas dataframe."
      ]
    },
    {
      "cell_type": "code",
      "metadata": {
        "id": "i6nNIRd-1Ytj",
        "colab_type": "code",
        "outputId": "6fd1fd3e-98d3-4997-fb3a-6dcf42ab9515",
        "colab": {
          "base_uri": "https://localhost:8080/",
          "height": 34
        }
      },
      "source": [
        "!pip install docx2txt"
      ],
      "execution_count": 0,
      "outputs": [
        {
          "output_type": "stream",
          "text": [
            "Requirement already satisfied: docx2txt in /usr/local/lib/python3.6/dist-packages (0.8)\n"
          ],
          "name": "stdout"
        }
      ]
    },
    {
      "cell_type": "code",
      "metadata": {
        "id": "9eno-qXvE7wp",
        "colab_type": "code",
        "colab": {}
      },
      "source": [
        "import pandas as pd\n",
        "import docx2txt\n",
        "import re"
      ],
      "execution_count": 0,
      "outputs": []
    },
    {
      "cell_type": "markdown",
      "metadata": {
        "id": "x9W6SqgK1rtZ",
        "colab_type": "text"
      },
      "source": [
        "## Read Word documents, convert them to text format, compress a bit (remove blank lines), and create a dataframe with a document per row. "
      ]
    },
    {
      "cell_type": "code",
      "metadata": {
        "id": "w6vWSLXF4otL",
        "colab_type": "code",
        "colab": {}
      },
      "source": [
        "def compress(text):\n",
        "  '''\n",
        "  removes blank lines and replaces multiple spaces with one space\n",
        "  '''\n",
        "  text = text.replace('\\t', ' ')\n",
        "  return re.sub('\\n+', '\\n', text)"
      ],
      "execution_count": 0,
      "outputs": []
    },
    {
      "cell_type": "code",
      "metadata": {
        "id": "hMPEeBkS4z7b",
        "colab_type": "code",
        "colab": {}
      },
      "source": [
        "from itertools import dropwhile\n",
        "\n",
        "def remove_TOC(text):\n",
        "\n",
        "  # drop list items until find a string with a substring \"ANNEXE\"\n",
        "  temp = list(dropwhile(lambda sentence: \"ANNEXE\" not in sentence, text))\n",
        "\n",
        "  # In the first line, drop everything until the word 'CONTRAT'\n",
        "  index = temp[0].find('CONTRAT')\n",
        "  temp[0] = temp[0][index:]\n",
        "  return temp"
      ],
      "execution_count": 0,
      "outputs": []
    },
    {
      "cell_type": "code",
      "metadata": {
        "id": "d5y0x9ua15qs",
        "colab_type": "code",
        "colab": {}
      },
      "source": [
        "docs = ['document6.docx', 'document8.docx', 'document10.docx', 'document11.docx', \n",
        "          'document14.docx', 'document15.docx', 'document16.docx', 'document17.docx', \n",
        "          'document18.docx']\n",
        "documents = []\n",
        "for doc in docs:\n",
        "  temp = docx2txt.process('/content/drive/My Drive/Colab Notebooks/Self-learning chatbot/texts/' + doc)\n",
        "  #temp = remove_TOC(text)\n",
        "  temp = compress(temp)\n",
        "  documents.append(temp)"
      ],
      "execution_count": 0,
      "outputs": []
    },
    {
      "cell_type": "code",
      "metadata": {
        "id": "tUsQJGBc3deS",
        "colab_type": "code",
        "colab": {}
      },
      "source": [
        "d = {'text': documents}\n",
        "df = pd.DataFrame(data=d)"
      ],
      "execution_count": 0,
      "outputs": []
    },
    {
      "cell_type": "code",
      "metadata": {
        "id": "kXnSm0pr38Ni",
        "colab_type": "code",
        "outputId": "bac29d8a-1820-4865-8c24-a947266e7285",
        "colab": {
          "base_uri": "https://localhost:8080/",
          "height": 328
        }
      },
      "source": [
        "df.head(10)"
      ],
      "execution_count": 0,
      "outputs": [
        {
          "output_type": "execute_result",
          "data": {
            "text/html": [
              "<div>\n",
              "<style scoped>\n",
              "    .dataframe tbody tr th:only-of-type {\n",
              "        vertical-align: middle;\n",
              "    }\n",
              "\n",
              "    .dataframe tbody tr th {\n",
              "        vertical-align: top;\n",
              "    }\n",
              "\n",
              "    .dataframe thead th {\n",
              "        text-align: right;\n",
              "    }\n",
              "</style>\n",
              "<table border=\"1\" class=\"dataframe\">\n",
              "  <thead>\n",
              "    <tr style=\"text-align: right;\">\n",
              "      <th></th>\n",
              "      <th>text</th>\n",
              "    </tr>\n",
              "  </thead>\n",
              "  <tbody>\n",
              "    <tr>\n",
              "      <th>0</th>\n",
              "      <td>APPEL D’OFFRES NO\\n DOCUMENT D’APPEL D’OFFRES ...</td>\n",
              "    </tr>\n",
              "    <tr>\n",
              "      <th>1</th>\n",
              "      <td>APPEL D’OFFRES NO\\n DOCUMENT D’APPEL D’OFFRES ...</td>\n",
              "    </tr>\n",
              "    <tr>\n",
              "      <th>2</th>\n",
              "      <td>APPEL D’OFFRES NO\\n DOCUMENT D’APPEL D’OFFRES ...</td>\n",
              "    </tr>\n",
              "    <tr>\n",
              "      <th>3</th>\n",
              "      <td>APPEL D’OFFRES NO\\n DOCUMENT D’APPEL D’OFFRES ...</td>\n",
              "    </tr>\n",
              "    <tr>\n",
              "      <th>4</th>\n",
              "      <td>APPEL D’OFFRES NO\\n DOCUMENT D’APPEL D’OFFRES ...</td>\n",
              "    </tr>\n",
              "    <tr>\n",
              "      <th>5</th>\n",
              "      <td>APPEL D’OFFRES NO\\n DOCUMENT D’APPEL D’OFFRES ...</td>\n",
              "    </tr>\n",
              "    <tr>\n",
              "      <th>6</th>\n",
              "      <td>APPEL D’OFFRES NO\\n DOCUMENT D’APPEL D’OFFRES ...</td>\n",
              "    </tr>\n",
              "    <tr>\n",
              "      <th>7</th>\n",
              "      <td>APPEL D’OFFRES NO\\n DOCUMENT D’APPEL D’OFFRES ...</td>\n",
              "    </tr>\n",
              "    <tr>\n",
              "      <th>8</th>\n",
              "      <td>APPEL D’OFFRES NO\\n DOCUMENT D’APPEL D’OFFRES ...</td>\n",
              "    </tr>\n",
              "  </tbody>\n",
              "</table>\n",
              "</div>"
            ],
            "text/plain": [
              "                                                text\n",
              "0  APPEL D’OFFRES NO\\n DOCUMENT D’APPEL D’OFFRES ...\n",
              "1  APPEL D’OFFRES NO\\n DOCUMENT D’APPEL D’OFFRES ...\n",
              "2  APPEL D’OFFRES NO\\n DOCUMENT D’APPEL D’OFFRES ...\n",
              "3  APPEL D’OFFRES NO\\n DOCUMENT D’APPEL D’OFFRES ...\n",
              "4  APPEL D’OFFRES NO\\n DOCUMENT D’APPEL D’OFFRES ...\n",
              "5  APPEL D’OFFRES NO\\n DOCUMENT D’APPEL D’OFFRES ...\n",
              "6  APPEL D’OFFRES NO\\n DOCUMENT D’APPEL D’OFFRES ...\n",
              "7  APPEL D’OFFRES NO\\n DOCUMENT D’APPEL D’OFFRES ...\n",
              "8  APPEL D’OFFRES NO\\n DOCUMENT D’APPEL D’OFFRES ..."
            ]
          },
          "metadata": {
            "tags": []
          },
          "execution_count": 90
        }
      ]
    },
    {
      "cell_type": "markdown",
      "metadata": {
        "id": "MzpWIQNb6o8u",
        "colab_type": "text"
      },
      "source": [
        "## Preprocessing"
      ]
    },
    {
      "cell_type": "code",
      "metadata": {
        "id": "i_oDntP0I23a",
        "colab_type": "code",
        "colab": {}
      },
      "source": [
        "from sklearn.feature_extraction.text import CountVectorizer"
      ],
      "execution_count": 0,
      "outputs": []
    },
    {
      "cell_type": "markdown",
      "metadata": {
        "id": "WmWbppTh6zfo",
        "colab_type": "text"
      },
      "source": [
        "**`max_df`**` : float in range [0.0, 1.0] or int, default=1.0`<br>\n",
        "When building the vocabulary ignore terms that have a document frequency strictly higher than the given threshold (corpus-specific stop words). If float, the parameter represents a proportion of documents, integer absolute counts. This parameter is ignored if vocabulary is not None.\n",
        "\n",
        "**`min_df`**` : float in range [0.0, 1.0] or int, default=1`<br>\n",
        "When building the vocabulary ignore terms that have a document frequency strictly lower than the given threshold. This value is also called cut-off in the literature. If float, the parameter represents a proportion of documents, integer absolute counts. This parameter is ignored if vocabulary is not None."
      ]
    },
    {
      "cell_type": "code",
      "metadata": {
        "id": "lffEe1eXJbMu",
        "colab_type": "code",
        "colab": {}
      },
      "source": [
        "stopwords = list({'ne', 'j', 'aie', 'eusse', 'l', 's', 'étés', 'la', 'étais', 'soient', 'furent', 'eûtes', 'avez', 'nous', 'leur', 'ait', 'avions', 'fusses', 'eurent', 'suis', 'aurions', 'te', 'étante', 'eu', 'aurez', 'le', 'ce', 'nos', 'fussent', 'avais', 'sera', 'eussent', 'ayants', 'et', 'auraient', 'en', 'au', 'une', 'ma', 'pas', 'étées', 'fussions', 'du', 'était', 'étaient', 'il', 'vous', 'avaient', 'tes', 'd', 'n', 'fusse', 'êtes', 'eut', 'eût', 'étiez', 'seras', 'eue', 'sont', 'serions', 'aurais', 'aux', 'étant', 'eus', 'étantes', 'seriez', 'des', 'auront', 'sommes', 'ces', 't', 'qu', 'fut', 'soyons', 'fût', 'ton', 'lui', 'ses', 'aurai', 'ayez', 'eux', 'ont', 'eussions', 'dans', 'seront', 'serais', 'seraient', 'moi', 'eussiez', 'fûmes', 'aura', 'soit', 'soyez', 'ai', 'fussiez', 'ta', 'm', 'à', 'eues', 'mais', 'aurait', 'par', 'un', 'serait', 'les', 'vos', 'eûmes', 'qui', 'je', 'même', 'étions', 'de', 'as', 'notre', 'aviez', 'ils', 'est', 'sur', 'votre', 'étants', 'avons', 'ayante', 'on', 'aurons', 'avait', 'eusses', 'ayantes', 'son', 'sa', 'es', 'serons', 'serez', 'toi', 'auriez', 'aies', 'étée', 'se', 'ayant', 'me', 'tu', 'mon', 'ayons', 'avec', 'fus', 'pour', 'ou', 'y', 'que', 'fûtes', 'auras', 'mes', 'aient', 'été', 'sois', 'elle', 'serai', 'c'})"
      ],
      "execution_count": 0,
      "outputs": []
    },
    {
      "cell_type": "code",
      "metadata": {
        "id": "7rfqO7rjMlEb",
        "colab_type": "code",
        "colab": {}
      },
      "source": [
        "cv = CountVectorizer(max_df=0.95, min_df=2, stop_words= stopwords)"
      ],
      "execution_count": 0,
      "outputs": []
    },
    {
      "cell_type": "code",
      "metadata": {
        "id": "0-s2ggUF-VYX",
        "colab_type": "code",
        "colab": {}
      },
      "source": [
        "# Document-term metrics\n",
        "\n",
        "dtm = cv.fit_transform(df['text'])"
      ],
      "execution_count": 0,
      "outputs": []
    },
    {
      "cell_type": "code",
      "metadata": {
        "id": "nSagTCm9Jlij",
        "colab_type": "code",
        "outputId": "110defff-3d3a-4205-9eb0-9c6c71923ee1",
        "colab": {
          "base_uri": "https://localhost:8080/",
          "height": 51
        }
      },
      "source": [
        "dtm"
      ],
      "execution_count": 0,
      "outputs": [
        {
          "output_type": "execute_result",
          "data": {
            "text/plain": [
              "<9x1516 sparse matrix of type '<class 'numpy.int64'>'\n",
              "\twith 7012 stored elements in Compressed Sparse Row format>"
            ]
          },
          "metadata": {
            "tags": []
          },
          "execution_count": 143
        }
      ]
    },
    {
      "cell_type": "markdown",
      "metadata": {
        "id": "5e0Bu1vqKPZK",
        "colab_type": "text"
      },
      "source": [
        "# LDA"
      ]
    },
    {
      "cell_type": "code",
      "metadata": {
        "id": "_YzEQeQGJp3w",
        "colab_type": "code",
        "outputId": "9ac3da1d-1a21-476c-aa69-f31a5fd80a29",
        "colab": {
          "base_uri": "https://localhost:8080/",
          "height": 136
        }
      },
      "source": [
        "from sklearn.decomposition import LatentDirichletAllocation\n",
        "LDA = LatentDirichletAllocation(n_components=5,random_state=42)\n",
        "\n",
        "LDA.fit(dtm)"
      ],
      "execution_count": 0,
      "outputs": [
        {
          "output_type": "execute_result",
          "data": {
            "text/plain": [
              "LatentDirichletAllocation(batch_size=128, doc_topic_prior=None,\n",
              "                          evaluate_every=-1, learning_decay=0.7,\n",
              "                          learning_method='batch', learning_offset=10.0,\n",
              "                          max_doc_update_iter=100, max_iter=10,\n",
              "                          mean_change_tol=0.001, n_components=5, n_jobs=None,\n",
              "                          perp_tol=0.1, random_state=42, topic_word_prior=None,\n",
              "                          total_samples=1000000.0, verbose=0)"
            ]
          },
          "metadata": {
            "tags": []
          },
          "execution_count": 118
        }
      ]
    },
    {
      "cell_type": "markdown",
      "metadata": {
        "id": "0-u_BGUpKVfU",
        "colab_type": "text"
      },
      "source": [
        "## Showing Stored Words"
      ]
    },
    {
      "cell_type": "code",
      "metadata": {
        "id": "eRRRnGq7KQ7N",
        "colab_type": "code",
        "outputId": "a3bdca4f-807d-4896-939c-9eb6eb224723",
        "colab": {
          "base_uri": "https://localhost:8080/",
          "height": 34
        }
      },
      "source": [
        "len(cv.get_feature_names())"
      ],
      "execution_count": 0,
      "outputs": [
        {
          "output_type": "execute_result",
          "data": {
            "text/plain": [
              "1516"
            ]
          },
          "metadata": {
            "tags": []
          },
          "execution_count": 119
        }
      ]
    },
    {
      "cell_type": "code",
      "metadata": {
        "id": "SIgPfiL0Ka4k",
        "colab_type": "code",
        "outputId": "f9125e51-122e-462e-882b-54f43c7320ff",
        "colab": {
          "base_uri": "https://localhost:8080/",
          "height": 187
        }
      },
      "source": [
        "import random\n",
        "\n",
        "for i in range(10):\n",
        "    random_word_id = random.randint(0,1515)\n",
        "    print(cv.get_feature_names()[random_word_id])"
      ],
      "execution_count": 0,
      "outputs": [
        {
          "output_type": "stream",
          "text": [
            "continue\n",
            "etc\n",
            "excède\n",
            "antérieur\n",
            "bien\n",
            "identifiées\n",
            "faits\n",
            "attribuées\n",
            "dédommager\n",
            "exécutable\n"
          ],
          "name": "stdout"
        }
      ]
    },
    {
      "cell_type": "code",
      "metadata": {
        "id": "5eCQwQtqKjE9",
        "colab_type": "code",
        "outputId": "509d083d-7095-4fda-cf6b-24caa65e7ff8",
        "colab": {
          "base_uri": "https://localhost:8080/",
          "height": 187
        }
      },
      "source": [
        "for i in range(10):\n",
        "    random_word_id = random.randint(0,1515)\n",
        "    print(cv.get_feature_names()[random_word_id])"
      ],
      "execution_count": 0,
      "outputs": [
        {
          "output_type": "stream",
          "text": [
            "exclusivement\n",
            "intentées\n",
            "réfléchi\n",
            "facturer\n",
            "présence\n",
            "maintient\n",
            "décidé\n",
            "établies\n",
            "fiches\n",
            "contenant\n"
          ],
          "name": "stdout"
        }
      ]
    },
    {
      "cell_type": "markdown",
      "metadata": {
        "id": "vHi3zslgK9Wq",
        "colab_type": "text"
      },
      "source": [
        "## Showing Top Words per Topic"
      ]
    },
    {
      "cell_type": "code",
      "metadata": {
        "id": "oGqlSznnK0T8",
        "colab_type": "code",
        "outputId": "8a37f919-0cd8-449a-a202-d8028bc4499a",
        "colab": {
          "base_uri": "https://localhost:8080/",
          "height": 34
        }
      },
      "source": [
        "len(LDA.components_)"
      ],
      "execution_count": 0,
      "outputs": [
        {
          "output_type": "execute_result",
          "data": {
            "text/plain": [
              "5"
            ]
          },
          "metadata": {
            "tags": []
          },
          "execution_count": 122
        }
      ]
    },
    {
      "cell_type": "code",
      "metadata": {
        "id": "1vaNhAlfLUag",
        "colab_type": "code",
        "outputId": "e7047323-9c9e-4545-d788-45b83dc52c01",
        "colab": {
          "base_uri": "https://localhost:8080/",
          "height": 34
        }
      },
      "source": [
        "type(LDA.components_)"
      ],
      "execution_count": 0,
      "outputs": [
        {
          "output_type": "execute_result",
          "data": {
            "text/plain": [
              "numpy.ndarray"
            ]
          },
          "metadata": {
            "tags": []
          },
          "execution_count": 123
        }
      ]
    },
    {
      "cell_type": "code",
      "metadata": {
        "id": "eqMsVnquLYeI",
        "colab_type": "code",
        "outputId": "fcf6cc5b-95f0-4cee-8e66-3b9d5af44d97",
        "colab": {
          "base_uri": "https://localhost:8080/",
          "height": 34
        }
      },
      "source": [
        "LDA.components_.shape"
      ],
      "execution_count": 0,
      "outputs": [
        {
          "output_type": "execute_result",
          "data": {
            "text/plain": [
              "(5, 1516)"
            ]
          },
          "metadata": {
            "tags": []
          },
          "execution_count": 124
        }
      ]
    },
    {
      "cell_type": "code",
      "metadata": {
        "id": "8TO0EEwWLG7f",
        "colab_type": "code",
        "outputId": "830d1386-4d98-4137-d388-9038666e3730",
        "colab": {
          "base_uri": "https://localhost:8080/",
          "height": 187
        }
      },
      "source": [
        "# numpy arrays containing probabilites of the words\n",
        "LDA.components_"
      ],
      "execution_count": 0,
      "outputs": [
        {
          "output_type": "execute_result",
          "data": {
            "text/plain": [
              "array([[ 0.20000017,  4.19999972,  0.20000023, ...,  0.20000015,\n",
              "         0.20000009,  0.20000018],\n",
              "       [ 3.14407284,  0.20000001,  1.45284342, ..., 10.06986777,\n",
              "         0.20000002,  2.33051921],\n",
              "       [ 0.20000066,  0.20000024,  0.20000087, ...,  0.20000058,\n",
              "         0.20000034,  0.20000068],\n",
              "       [ 3.25590815,  0.20000001,  3.91911051, ..., 13.33005225,\n",
              "         2.19999952,  6.03483018],\n",
              "       [ 3.20001818,  0.20000002,  1.22804496, ...,  0.20007925,\n",
              "         0.20000003,  2.23464975]])"
            ]
          },
          "metadata": {
            "tags": []
          },
          "execution_count": 125
        }
      ]
    },
    {
      "cell_type": "code",
      "metadata": {
        "id": "n_kMdBVlLJkk",
        "colab_type": "code",
        "outputId": "c4154f6e-8d70-41be-83d1-31d78c2aea70",
        "colab": {
          "base_uri": "https://localhost:8080/",
          "height": 34
        }
      },
      "source": [
        "len(LDA.components_[0])"
      ],
      "execution_count": 0,
      "outputs": [
        {
          "output_type": "execute_result",
          "data": {
            "text/plain": [
              "1516"
            ]
          },
          "metadata": {
            "tags": []
          },
          "execution_count": 126
        }
      ]
    },
    {
      "cell_type": "code",
      "metadata": {
        "id": "bg1tAWEkLM4z",
        "colab_type": "code",
        "colab": {}
      },
      "source": [
        "single_topic = LDA.components_[0]"
      ],
      "execution_count": 0,
      "outputs": []
    },
    {
      "cell_type": "code",
      "metadata": {
        "id": "75OtunCILhnY",
        "colab_type": "code",
        "outputId": "2e303aa7-aae6-4c58-e409-775fec451419",
        "colab": {
          "base_uri": "https://localhost:8080/",
          "height": 34
        }
      },
      "source": [
        "# Returns the indices that would sort this array.\n",
        "single_topic.argsort()"
      ],
      "execution_count": 0,
      "outputs": [
        {
          "output_type": "execute_result",
          "data": {
            "text/plain": [
              "array([1133,  581, 1029, ...,  981,  870, 1008])"
            ]
          },
          "metadata": {
            "tags": []
          },
          "execution_count": 128
        }
      ]
    },
    {
      "cell_type": "code",
      "metadata": {
        "id": "IvfFUnhhLkxM",
        "colab_type": "code",
        "outputId": "e6965535-e295-4662-be8b-3ef469de20ca",
        "colab": {
          "base_uri": "https://localhost:8080/",
          "height": 34
        }
      },
      "source": [
        "# Word least representative of this topic\n",
        "single_topic[1008]"
      ],
      "execution_count": 0,
      "outputs": [
        {
          "output_type": "execute_result",
          "data": {
            "text/plain": [
              "28.199860683383356"
            ]
          },
          "metadata": {
            "tags": []
          },
          "execution_count": 131
        }
      ]
    },
    {
      "cell_type": "code",
      "metadata": {
        "id": "Koq9ZgmwLn_F",
        "colab_type": "code",
        "outputId": "4a03ff64-7c07-4281-ce48-f2137dfd68e3",
        "colab": {
          "base_uri": "https://localhost:8080/",
          "height": 34
        }
      },
      "source": [
        "# Word most representative of this topic\n",
        "single_topic[1133]"
      ],
      "execution_count": 0,
      "outputs": [
        {
          "output_type": "execute_result",
          "data": {
            "text/plain": [
              "0.20000004421365866"
            ]
          },
          "metadata": {
            "tags": []
          },
          "execution_count": 130
        }
      ]
    },
    {
      "cell_type": "code",
      "metadata": {
        "id": "brCTKbsxL36l",
        "colab_type": "code",
        "outputId": "502847c6-72ad-4e9e-9e7b-c738e5675428",
        "colab": {
          "base_uri": "https://localhost:8080/",
          "height": 34
        }
      },
      "source": [
        "# Top 10 words for this topic:\n",
        "single_topic.argsort()[-10:]"
      ],
      "execution_count": 0,
      "outputs": [
        {
          "output_type": "execute_result",
          "data": {
            "text/plain": [
              "array([  81,  871, 1475, 1477,   48, 1058, 1003,  981,  870, 1008])"
            ]
          },
          "metadata": {
            "tags": []
          },
          "execution_count": 132
        }
      ]
    },
    {
      "cell_type": "code",
      "metadata": {
        "id": "Hio2-v1IL8cS",
        "colab_type": "code",
        "colab": {}
      },
      "source": [
        "top_word_indices = single_topic.argsort()[-10:]"
      ],
      "execution_count": 0,
      "outputs": []
    },
    {
      "cell_type": "code",
      "metadata": {
        "id": "MbB1mfPHMBOe",
        "colab_type": "code",
        "outputId": "ff4d88dc-d846-4a43-d769-f9c5e1f126db",
        "colab": {
          "base_uri": "https://localhost:8080/",
          "height": 187
        }
      },
      "source": [
        "for index in top_word_indices:\n",
        "    print(cv.get_feature_names()[index])"
      ],
      "execution_count": 0,
      "outputs": [
        {
          "output_type": "stream",
          "text": [
            "addenda\n",
            "matériel\n",
            "échéance\n",
            "échéancier\n",
            "____________________________________\n",
            "professionnel\n",
            "phase\n",
            "ouvrage\n",
            "matériaux\n",
            "plans\n"
          ],
          "name": "stdout"
        }
      ]
    },
    {
      "cell_type": "markdown",
      "metadata": {
        "id": "KKshJfe4MKG1",
        "colab_type": "text"
      },
      "source": [
        "It is unclear what topic this is... Let's confirm by using .transform() on our vectorized articles to attach a label number. But first, let's view all the 5 topics found."
      ]
    },
    {
      "cell_type": "code",
      "metadata": {
        "id": "rktw-tioMEIx",
        "colab_type": "code",
        "outputId": "e32af85b-eb03-445c-fcc8-c8c3184c1c78",
        "colab": {
          "base_uri": "https://localhost:8080/",
          "height": 377
        }
      },
      "source": [
        "for index,topic in enumerate(LDA.components_):\n",
        "    print(f'THE TOP 15 WORDS FOR TOPIC #{index}')\n",
        "    print([cv.get_feature_names()[i] for i in topic.argsort()[-15:]])\n",
        "    print('\\n')"
      ],
      "execution_count": 0,
      "outputs": [
        {
          "output_type": "stream",
          "text": [
            "THE TOP 15 WORDS FOR TOPIC #0\n",
            "['certificat', 'juridiquement', 'organisé', 'tard', 'actif', 'addenda', 'matériel', 'échéance', 'échéancier', '____________________________________', 'professionnel', 'phase', 'ouvrage', 'matériaux', 'plans']\n",
            "\n",
            "\n",
            "THE TOP 15 WORDS FOR TOPIC #1\n",
            "['période', 'pre', 'numéro', 'matériel', 'auteur', 'pourcentage', 'exigences', 'évaluation', 're', 'rendement', 'engagement', 'cession', 'licence', 'destruction', 'logiciel']\n",
            "\n",
            "\n",
            "THE TOP 15 WORDS FOR TOPIC #2\n",
            "['confirmer', 'prévoit', 'efficace', 'civil', 'nommée', 'fournissant', 'suivi', 'domaine', 'verbal', 'éliminant', 'transmettant', 'obstacle', 'empêchant', 'désigné', 'matériaux']\n",
            "\n",
            "\n",
            "THE TOP 15 WORDS FOR TOPIC #3\n",
            "['fournisseurs', 'nouveau', 'bon', 'période', 'rendement', 'initiale', 'numéro', 'option', 'exigences', 'pourcentage', 'commande', 'destruction', 'consignation', 'ouvrage', 'bien']\n",
            "\n",
            "\n",
            "THE TOP 15 WORDS FOR TOPIC #4\n",
            "['guise', 'conformes', '65', 'admissibles', 'convient', 'horaire', 'tarif', 'facture', 'facturation', 'dépenses', 'professionnels', 'architectes', 'ingénieurs', 'plans', 'méthode']\n",
            "\n",
            "\n"
          ],
          "name": "stdout"
        }
      ]
    },
    {
      "cell_type": "markdown",
      "metadata": {
        "id": "j0C1vw9gMhgP",
        "colab_type": "text"
      },
      "source": [
        "## Attaching Discovered Topic Labels to Original Articles"
      ]
    },
    {
      "cell_type": "code",
      "metadata": {
        "id": "n1ocGliAMXKZ",
        "colab_type": "code",
        "outputId": "0a6729b9-edad-4a62-ad8b-7c645dca41a7",
        "colab": {
          "base_uri": "https://localhost:8080/",
          "height": 51
        }
      },
      "source": [
        "dtm"
      ],
      "execution_count": 0,
      "outputs": [
        {
          "output_type": "execute_result",
          "data": {
            "text/plain": [
              "<9x1516 sparse matrix of type '<class 'numpy.int64'>'\n",
              "\twith 7012 stored elements in Compressed Sparse Row format>"
            ]
          },
          "metadata": {
            "tags": []
          },
          "execution_count": 136
        }
      ]
    },
    {
      "cell_type": "code",
      "metadata": {
        "id": "ymBpMUl6MuZn",
        "colab_type": "code",
        "outputId": "0e67e36a-6734-4dc8-e36f-858304e3b6e6",
        "colab": {
          "base_uri": "https://localhost:8080/",
          "height": 34
        }
      },
      "source": [
        "dtm.shape"
      ],
      "execution_count": 0,
      "outputs": [
        {
          "output_type": "execute_result",
          "data": {
            "text/plain": [
              "(9, 1516)"
            ]
          },
          "metadata": {
            "tags": []
          },
          "execution_count": 137
        }
      ]
    },
    {
      "cell_type": "code",
      "metadata": {
        "id": "OmQc76vPMlTJ",
        "colab_type": "code",
        "outputId": "0df361d4-bbac-4446-f4e4-21d700e79e46",
        "colab": {
          "base_uri": "https://localhost:8080/",
          "height": 34
        }
      },
      "source": [
        "len(df)"
      ],
      "execution_count": 0,
      "outputs": [
        {
          "output_type": "execute_result",
          "data": {
            "text/plain": [
              "9"
            ]
          },
          "metadata": {
            "tags": []
          },
          "execution_count": 138
        }
      ]
    },
    {
      "cell_type": "code",
      "metadata": {
        "id": "aUygoiWQMra7",
        "colab_type": "code",
        "colab": {}
      },
      "source": [
        "topic_results = LDA.transform(dtm)"
      ],
      "execution_count": 0,
      "outputs": []
    },
    {
      "cell_type": "code",
      "metadata": {
        "id": "g64jCTLyMyQY",
        "colab_type": "code",
        "outputId": "eba8f746-d540-44ae-cd69-4088624bf432",
        "colab": {
          "base_uri": "https://localhost:8080/",
          "height": 34
        }
      },
      "source": [
        "topic_results.shape"
      ],
      "execution_count": 0,
      "outputs": [
        {
          "output_type": "execute_result",
          "data": {
            "text/plain": [
              "(9, 5)"
            ]
          },
          "metadata": {
            "tags": []
          },
          "execution_count": 145
        }
      ]
    },
    {
      "cell_type": "code",
      "metadata": {
        "id": "8g2Q5eLSM0rS",
        "colab_type": "code",
        "outputId": "50e2b6ce-d0a2-456b-f12b-6ab7d8f5b43c",
        "colab": {
          "base_uri": "https://localhost:8080/",
          "height": 51
        }
      },
      "source": [
        "# This is the probability of document belnging to a particular topic \n",
        "# (before, it was probabilities of words belonging to a particular topic)\n",
        "\n",
        "topic_results[0]"
      ],
      "execution_count": 0,
      "outputs": [
        {
          "output_type": "execute_result",
          "data": {
            "text/plain": [
              "array([9.98240988e-05, 1.01497938e-04, 9.91649861e-05, 9.99598168e-01,\n",
              "       1.01345442e-04])"
            ]
          },
          "metadata": {
            "tags": []
          },
          "execution_count": 153
        }
      ]
    },
    {
      "cell_type": "code",
      "metadata": {
        "id": "Efw3xEiXM2wF",
        "colab_type": "code",
        "outputId": "b541ac1a-d01a-48a5-fd5a-1dc382945f54",
        "colab": {
          "base_uri": "https://localhost:8080/",
          "height": 34
        }
      },
      "source": [
        "topic_results[0].round(2)"
      ],
      "execution_count": 0,
      "outputs": [
        {
          "output_type": "execute_result",
          "data": {
            "text/plain": [
              "array([0., 0., 0., 1., 0.])"
            ]
          },
          "metadata": {
            "tags": []
          },
          "execution_count": 154
        }
      ]
    },
    {
      "cell_type": "code",
      "metadata": {
        "id": "ZGdqKdWBM5Aj",
        "colab_type": "code",
        "outputId": "0d9a591b-a47a-4032-c27c-c0b338e61757",
        "colab": {
          "base_uri": "https://localhost:8080/",
          "height": 34
        }
      },
      "source": [
        "topic_results[0].argmax()"
      ],
      "execution_count": 0,
      "outputs": [
        {
          "output_type": "execute_result",
          "data": {
            "text/plain": [
              "3"
            ]
          },
          "metadata": {
            "tags": []
          },
          "execution_count": 148
        }
      ]
    },
    {
      "cell_type": "markdown",
      "metadata": {
        "id": "hiQCOqFlNCWH",
        "colab_type": "text"
      },
      "source": [
        "This means that our model thinks that the first article belongs to topic #3."
      ]
    },
    {
      "cell_type": "markdown",
      "metadata": {
        "id": "oV2BxPSiNJje",
        "colab_type": "text"
      },
      "source": [
        "## Combining with Original Data"
      ]
    },
    {
      "cell_type": "code",
      "metadata": {
        "id": "m26vECtZM8Zc",
        "colab_type": "code",
        "outputId": "dac5fa5c-d485-4398-8662-2a4d95df0a5b",
        "colab": {
          "base_uri": "https://localhost:8080/",
          "height": 204
        }
      },
      "source": [
        "df.head()"
      ],
      "execution_count": 0,
      "outputs": [
        {
          "output_type": "execute_result",
          "data": {
            "text/html": [
              "<div>\n",
              "<style scoped>\n",
              "    .dataframe tbody tr th:only-of-type {\n",
              "        vertical-align: middle;\n",
              "    }\n",
              "\n",
              "    .dataframe tbody tr th {\n",
              "        vertical-align: top;\n",
              "    }\n",
              "\n",
              "    .dataframe thead th {\n",
              "        text-align: right;\n",
              "    }\n",
              "</style>\n",
              "<table border=\"1\" class=\"dataframe\">\n",
              "  <thead>\n",
              "    <tr style=\"text-align: right;\">\n",
              "      <th></th>\n",
              "      <th>text</th>\n",
              "    </tr>\n",
              "  </thead>\n",
              "  <tbody>\n",
              "    <tr>\n",
              "      <th>0</th>\n",
              "      <td>APPEL D’OFFRES NO\\n DOCUMENT D’APPEL D’OFFRES ...</td>\n",
              "    </tr>\n",
              "    <tr>\n",
              "      <th>1</th>\n",
              "      <td>APPEL D’OFFRES NO\\n DOCUMENT D’APPEL D’OFFRES ...</td>\n",
              "    </tr>\n",
              "    <tr>\n",
              "      <th>2</th>\n",
              "      <td>APPEL D’OFFRES NO\\n DOCUMENT D’APPEL D’OFFRES ...</td>\n",
              "    </tr>\n",
              "    <tr>\n",
              "      <th>3</th>\n",
              "      <td>APPEL D’OFFRES NO\\n DOCUMENT D’APPEL D’OFFRES ...</td>\n",
              "    </tr>\n",
              "    <tr>\n",
              "      <th>4</th>\n",
              "      <td>APPEL D’OFFRES NO\\n DOCUMENT D’APPEL D’OFFRES ...</td>\n",
              "    </tr>\n",
              "  </tbody>\n",
              "</table>\n",
              "</div>"
            ],
            "text/plain": [
              "                                                text\n",
              "0  APPEL D’OFFRES NO\\n DOCUMENT D’APPEL D’OFFRES ...\n",
              "1  APPEL D’OFFRES NO\\n DOCUMENT D’APPEL D’OFFRES ...\n",
              "2  APPEL D’OFFRES NO\\n DOCUMENT D’APPEL D’OFFRES ...\n",
              "3  APPEL D’OFFRES NO\\n DOCUMENT D’APPEL D’OFFRES ...\n",
              "4  APPEL D’OFFRES NO\\n DOCUMENT D’APPEL D’OFFRES ..."
            ]
          },
          "metadata": {
            "tags": []
          },
          "execution_count": 149
        }
      ]
    },
    {
      "cell_type": "code",
      "metadata": {
        "id": "jJ_vzMcjNNPl",
        "colab_type": "code",
        "outputId": "76201d62-8a0d-4ce1-9306-41e3cab1c1f8",
        "colab": {
          "base_uri": "https://localhost:8080/",
          "height": 34
        }
      },
      "source": [
        "topic_results.argmax(axis=1)"
      ],
      "execution_count": 0,
      "outputs": [
        {
          "output_type": "execute_result",
          "data": {
            "text/plain": [
              "array([3, 3, 1, 4, 0, 0, 3, 3, 1])"
            ]
          },
          "metadata": {
            "tags": []
          },
          "execution_count": 150
        }
      ]
    },
    {
      "cell_type": "code",
      "metadata": {
        "id": "Sj2J2FLUNSx9",
        "colab_type": "code",
        "colab": {}
      },
      "source": [
        "# add a column of topics\n",
        "df['Topic'] = topic_results.argmax(axis=1)"
      ],
      "execution_count": 0,
      "outputs": []
    },
    {
      "cell_type": "code",
      "metadata": {
        "id": "zjJDDSSGNaIB",
        "colab_type": "code",
        "outputId": "2b56d713-4737-4ce1-c0b2-65013b081ed0",
        "colab": {
          "base_uri": "https://localhost:8080/",
          "height": 328
        }
      },
      "source": [
        "df.head(10)"
      ],
      "execution_count": 0,
      "outputs": [
        {
          "output_type": "execute_result",
          "data": {
            "text/html": [
              "<div>\n",
              "<style scoped>\n",
              "    .dataframe tbody tr th:only-of-type {\n",
              "        vertical-align: middle;\n",
              "    }\n",
              "\n",
              "    .dataframe tbody tr th {\n",
              "        vertical-align: top;\n",
              "    }\n",
              "\n",
              "    .dataframe thead th {\n",
              "        text-align: right;\n",
              "    }\n",
              "</style>\n",
              "<table border=\"1\" class=\"dataframe\">\n",
              "  <thead>\n",
              "    <tr style=\"text-align: right;\">\n",
              "      <th></th>\n",
              "      <th>text</th>\n",
              "      <th>Topic</th>\n",
              "    </tr>\n",
              "  </thead>\n",
              "  <tbody>\n",
              "    <tr>\n",
              "      <th>0</th>\n",
              "      <td>APPEL D’OFFRES NO\\n DOCUMENT D’APPEL D’OFFRES ...</td>\n",
              "      <td>3</td>\n",
              "    </tr>\n",
              "    <tr>\n",
              "      <th>1</th>\n",
              "      <td>APPEL D’OFFRES NO\\n DOCUMENT D’APPEL D’OFFRES ...</td>\n",
              "      <td>3</td>\n",
              "    </tr>\n",
              "    <tr>\n",
              "      <th>2</th>\n",
              "      <td>APPEL D’OFFRES NO\\n DOCUMENT D’APPEL D’OFFRES ...</td>\n",
              "      <td>1</td>\n",
              "    </tr>\n",
              "    <tr>\n",
              "      <th>3</th>\n",
              "      <td>APPEL D’OFFRES NO\\n DOCUMENT D’APPEL D’OFFRES ...</td>\n",
              "      <td>4</td>\n",
              "    </tr>\n",
              "    <tr>\n",
              "      <th>4</th>\n",
              "      <td>APPEL D’OFFRES NO\\n DOCUMENT D’APPEL D’OFFRES ...</td>\n",
              "      <td>0</td>\n",
              "    </tr>\n",
              "    <tr>\n",
              "      <th>5</th>\n",
              "      <td>APPEL D’OFFRES NO\\n DOCUMENT D’APPEL D’OFFRES ...</td>\n",
              "      <td>0</td>\n",
              "    </tr>\n",
              "    <tr>\n",
              "      <th>6</th>\n",
              "      <td>APPEL D’OFFRES NO\\n DOCUMENT D’APPEL D’OFFRES ...</td>\n",
              "      <td>3</td>\n",
              "    </tr>\n",
              "    <tr>\n",
              "      <th>7</th>\n",
              "      <td>APPEL D’OFFRES NO\\n DOCUMENT D’APPEL D’OFFRES ...</td>\n",
              "      <td>3</td>\n",
              "    </tr>\n",
              "    <tr>\n",
              "      <th>8</th>\n",
              "      <td>APPEL D’OFFRES NO\\n DOCUMENT D’APPEL D’OFFRES ...</td>\n",
              "      <td>1</td>\n",
              "    </tr>\n",
              "  </tbody>\n",
              "</table>\n",
              "</div>"
            ],
            "text/plain": [
              "                                                text  Topic\n",
              "0  APPEL D’OFFRES NO\\n DOCUMENT D’APPEL D’OFFRES ...      3\n",
              "1  APPEL D’OFFRES NO\\n DOCUMENT D’APPEL D’OFFRES ...      3\n",
              "2  APPEL D’OFFRES NO\\n DOCUMENT D’APPEL D’OFFRES ...      1\n",
              "3  APPEL D’OFFRES NO\\n DOCUMENT D’APPEL D’OFFRES ...      4\n",
              "4  APPEL D’OFFRES NO\\n DOCUMENT D’APPEL D’OFFRES ...      0\n",
              "5  APPEL D’OFFRES NO\\n DOCUMENT D’APPEL D’OFFRES ...      0\n",
              "6  APPEL D’OFFRES NO\\n DOCUMENT D’APPEL D’OFFRES ...      3\n",
              "7  APPEL D’OFFRES NO\\n DOCUMENT D’APPEL D’OFFRES ...      3\n",
              "8  APPEL D’OFFRES NO\\n DOCUMENT D’APPEL D’OFFRES ...      1"
            ]
          },
          "metadata": {
            "tags": []
          },
          "execution_count": 152
        }
      ]
    },
    {
      "cell_type": "markdown",
      "metadata": {
        "id": "CiJjyqa5Rm5y",
        "colab_type": "text"
      },
      "source": [
        "docs = ['document6.docx' -- Biens (fournitures),\n",
        "\n",
        "'document8.docx', -- Haute-technologie\n",
        "\n",
        "'document10.docx', -- Service professionnels\n",
        "\n",
        "'document11.docx', -- Service professionnels lies a la construction\n",
        "\n",
        "'document14.docx', -- Travaux de construction et services professionnels\n",
        "\n",
        "'document15.docx',-- Travaux de construction et services professionnels 2 etapes\n",
        "\n",
        "'document16.docx', -- Biens informatiques\n",
        "\n",
        "'document17.docx', -- Biens informatiques - equipement\n",
        "\n",
        "'document18.docx'] -- Services informatiques"
      ]
    },
    {
      "cell_type": "code",
      "metadata": {
        "id": "jAA260iHNhXV",
        "colab_type": "code",
        "colab": {}
      },
      "source": [
        ""
      ],
      "execution_count": 0,
      "outputs": []
    }
  ]
}