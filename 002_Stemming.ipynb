{
  "nbformat": 4,
  "nbformat_minor": 0,
  "metadata": {
    "colab": {
      "name": "002_Stemming.ipynb",
      "provenance": [],
      "authorship_tag": "ABX9TyOFTxTS/9GAdOvS2IKjLlHm",
      "include_colab_link": true
    },
    "kernelspec": {
      "name": "python3",
      "display_name": "Python 3"
    }
  },
  "cells": [
    {
      "cell_type": "markdown",
      "metadata": {
        "id": "view-in-github",
        "colab_type": "text"
      },
      "source": [
        "<a href=\"https://colab.research.google.com/github/noircir/Python/blob/master/002_Stemming.ipynb\" target=\"_parent\"><img src=\"https://colab.research.google.com/assets/colab-badge.svg\" alt=\"Open In Colab\"/></a>"
      ]
    },
    {
      "cell_type": "code",
      "metadata": {
        "id": "8UFRDBG_XiX8",
        "colab_type": "code",
        "colab": {}
      },
      "source": [
        "# Import the toolkit and the full Porter Stemmer library\n",
        "import nltk\n",
        "\n",
        "from nltk.stem.porter import *"
      ],
      "execution_count": 0,
      "outputs": []
    },
    {
      "cell_type": "code",
      "metadata": {
        "id": "fgDzbl5qcJSc",
        "colab_type": "code",
        "colab": {}
      },
      "source": [
        "p_stemmer = PorterStemmer()"
      ],
      "execution_count": 0,
      "outputs": []
    },
    {
      "cell_type": "code",
      "metadata": {
        "id": "U_OthEu3cM__",
        "colab_type": "code",
        "colab": {}
      },
      "source": [
        "words = ['run','runner','running','ran','runs','easily','fairly', 'fairness']"
      ],
      "execution_count": 0,
      "outputs": []
    },
    {
      "cell_type": "code",
      "metadata": {
        "id": "ysK0X0sbcPTN",
        "colab_type": "code",
        "colab": {
          "base_uri": "https://localhost:8080/",
          "height": 153
        },
        "outputId": "6873cc23-4dfa-49cc-9dbf-b275738af5bb"
      },
      "source": [
        "for word in words:\n",
        "    print(word+' --> '+ p_stemmer.stem(word))"
      ],
      "execution_count": 9,
      "outputs": [
        {
          "output_type": "stream",
          "text": [
            "run --> run\n",
            "runner --> runner\n",
            "running --> run\n",
            "ran --> ran\n",
            "runs --> run\n",
            "easily --> easili\n",
            "fairly --> fairli\n",
            "fairness --> fair\n"
          ],
          "name": "stdout"
        }
      ]
    },
    {
      "cell_type": "markdown",
      "metadata": {
        "id": "fRbd3SDBco_p",
        "colab_type": "text"
      },
      "source": [
        "## Snowball Stemmer\n",
        "This is somewhat of a misnomer, as Snowball is the name of a stemming language developed by Martin Porter. The algorithm used here is more acurately called the \"English Stemmer\" or \"Porter2 Stemmer\". It offers a slight improvement over the original Porter stemmer, both in logic and speed. Since nltk uses the name SnowballStemmer, we'll use it here."
      ]
    },
    {
      "cell_type": "code",
      "metadata": {
        "id": "2W7xQDypcUEs",
        "colab_type": "code",
        "colab": {}
      },
      "source": [
        "from nltk.stem.snowball import SnowballStemmer\n",
        "\n",
        "# The Snowball Stemmer requires that you pass a language parameter\n",
        "s_stemmer = SnowballStemmer(language='english')"
      ],
      "execution_count": 0,
      "outputs": []
    },
    {
      "cell_type": "code",
      "metadata": {
        "id": "YIDp0obrcuce",
        "colab_type": "code",
        "colab": {
          "base_uri": "https://localhost:8080/",
          "height": 153
        },
        "outputId": "39cf6f00-3ab6-42bc-c9cd-e8510b40fecb"
      },
      "source": [
        "for word in words:\n",
        "    print(word+' --> '+s_stemmer.stem(word))"
      ],
      "execution_count": 10,
      "outputs": [
        {
          "output_type": "stream",
          "text": [
            "run --> run\n",
            "runner --> runner\n",
            "running --> run\n",
            "ran --> ran\n",
            "runs --> run\n",
            "easily --> easili\n",
            "fairly --> fair\n",
            "fairness --> fair\n"
          ],
          "name": "stdout"
        }
      ]
    },
    {
      "cell_type": "code",
      "metadata": {
        "id": "o53kECU7czJy",
        "colab_type": "code",
        "colab": {}
      },
      "source": [
        "words = ['consolingly', 'generous', 'generate', 'generation', 'generously']"
      ],
      "execution_count": 0,
      "outputs": []
    },
    {
      "cell_type": "code",
      "metadata": {
        "id": "GIXVxxDmdVQx",
        "colab_type": "code",
        "colab": {
          "base_uri": "https://localhost:8080/",
          "height": 102
        },
        "outputId": "dbb5b91a-fd78-432e-eeba-a35607be494a"
      },
      "source": [
        "# Porter Stemmer\n",
        "for word in words:\n",
        "    print(word+' --> '+p_stemmer.stem(word))"
      ],
      "execution_count": 13,
      "outputs": [
        {
          "output_type": "stream",
          "text": [
            "consolingly --> consolingli\n",
            "generous --> gener\n",
            "generate --> gener\n",
            "generation --> gener\n",
            "generously --> gener\n"
          ],
          "name": "stdout"
        }
      ]
    },
    {
      "cell_type": "code",
      "metadata": {
        "id": "RLmBoAv2dovc",
        "colab_type": "code",
        "colab": {
          "base_uri": "https://localhost:8080/",
          "height": 102
        },
        "outputId": "301e56fd-69f3-45e9-ec36-7382f45ec3fa"
      },
      "source": [
        "# Snowball Stemmer\n",
        "for word in words:\n",
        "    print(word+' --> '+s_stemmer.stem(word))"
      ],
      "execution_count": 14,
      "outputs": [
        {
          "output_type": "stream",
          "text": [
            "consolingly --> consol\n",
            "generous --> generous\n",
            "generate --> generat\n",
            "generation --> generat\n",
            "generously --> generous\n"
          ],
          "name": "stdout"
        }
      ]
    },
    {
      "cell_type": "code",
      "metadata": {
        "id": "u45vA-_BdsTB",
        "colab_type": "code",
        "colab": {}
      },
      "source": [
        ""
      ],
      "execution_count": 0,
      "outputs": []
    }
  ]
}