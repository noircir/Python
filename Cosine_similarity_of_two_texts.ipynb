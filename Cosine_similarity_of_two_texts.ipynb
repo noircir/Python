{
  "nbformat": 4,
  "nbformat_minor": 0,
  "metadata": {
    "colab": {
      "name": "Cosine similarity of two texts.ipynb",
      "provenance": [],
      "collapsed_sections": [],
      "toc_visible": true,
      "mount_file_id": "1W7tG8gH1bJlF6cQ_RCYR0mUBIv3GZIrU",
      "authorship_tag": "ABX9TyME3mggd7tRVSrraKXo+fOI",
      "include_colab_link": true
    },
    "kernelspec": {
      "name": "python3",
      "display_name": "Python 3"
    }
  },
  "cells": [
    {
      "cell_type": "markdown",
      "metadata": {
        "id": "view-in-github",
        "colab_type": "text"
      },
      "source": [
        "<a href=\"https://colab.research.google.com/github/noircir/Python/blob/master/Cosine_similarity_of_two_texts.ipynb\" target=\"_parent\"><img src=\"https://colab.research.google.com/assets/colab-badge.svg\" alt=\"Open In Colab\"/></a>"
      ]
    },
    {
      "cell_type": "code",
      "metadata": {
        "id": "bCiYQWvYQSjg",
        "colab_type": "code",
        "colab": {}
      },
      "source": [
        "# Description: create a program to see how similar are two texts."
      ],
      "execution_count": 0,
      "outputs": []
    },
    {
      "cell_type": "code",
      "metadata": {
        "id": "nkOtw4ew_Rfy",
        "colab_type": "code",
        "colab": {
          "base_uri": "https://localhost:8080/",
          "height": 34
        },
        "outputId": "52fd59c3-555a-45fa-af58-6e3eea215242"
      },
      "source": [
        "# Install the docx2txt package\n",
        "!pip install docx2txt"
      ],
      "execution_count": 2,
      "outputs": [
        {
          "output_type": "stream",
          "text": [
            "Requirement already satisfied: docx2txt in /usr/local/lib/python3.6/dist-packages (0.8)\n"
          ],
          "name": "stdout"
        }
      ]
    },
    {
      "cell_type": "code",
      "metadata": {
        "id": "byOm2oa5_VaY",
        "colab_type": "code",
        "colab": {}
      },
      "source": [
        "import docx2txt"
      ],
      "execution_count": 0,
      "outputs": []
    },
    {
      "cell_type": "code",
      "metadata": {
        "id": "ogAgjNCsI-Sy",
        "colab_type": "code",
        "colab": {}
      },
      "source": [
        "doc15 = docx2txt.process(\"/content/document15.docx\")\n",
        "\n",
        "#print(doc15)"
      ],
      "execution_count": 0,
      "outputs": []
    },
    {
      "cell_type": "code",
      "metadata": {
        "id": "3qYq44pfI-Po",
        "colab_type": "code",
        "colab": {}
      },
      "source": [
        "doc_master = docx2txt.process(\"/content/document_master.docx\")\n",
        "#doc_master = docx2txt.process(\"/content/document15.docx\")\n",
        "#print(doc_master)"
      ],
      "execution_count": 0,
      "outputs": []
    },
    {
      "cell_type": "code",
      "metadata": {
        "id": "mvD3mseLI-Ms",
        "colab_type": "code",
        "colab": {}
      },
      "source": [
        "# A list of text\n",
        "text = [doc15, doc_master]"
      ],
      "execution_count": 0,
      "outputs": []
    },
    {
      "cell_type": "code",
      "metadata": {
        "id": "o59IFwmGI-IE",
        "colab_type": "code",
        "colab": {}
      },
      "source": [
        "from sklearn.feature_extraction.text import CountVectorizer\n",
        "cv = CountVectorizer()\n",
        "count_matrix = cv.fit_transform(text)"
      ],
      "execution_count": 0,
      "outputs": []
    },
    {
      "cell_type": "code",
      "metadata": {
        "id": "4Vxy9iDtI-GD",
        "colab_type": "code",
        "colab": {
          "base_uri": "https://localhost:8080/",
          "height": 85
        },
        "outputId": "6c87a28e-2776-417e-cb5a-e5366d2c84aa"
      },
      "source": [
        "from sklearn.metrics.pairwise import cosine_similarity\n",
        "\n",
        "#Print the similarity scores\n",
        "print(\"\\nSimilarity Scores:\")\n",
        "print(cosine_similarity(count_matrix))"
      ],
      "execution_count": 29,
      "outputs": [
        {
          "output_type": "stream",
          "text": [
            "\n",
            "Similarity Scores:\n",
            "[[1.         0.90212703]\n",
            " [0.90212703 1.        ]]\n"
          ],
          "name": "stdout"
        }
      ]
    },
    {
      "cell_type": "code",
      "metadata": {
        "id": "txZoJ5bXI-C4",
        "colab_type": "code",
        "colab": {
          "base_uri": "https://localhost:8080/",
          "height": 34
        },
        "outputId": "b38d5288-4a2c-40bf-fb58-3835d3ce8624"
      },
      "source": [
        "matchPercentage = cosine_similarity(count_matrix)[0][1] * 100\n",
        "matchPercentage = round(matchPercentage, 2)\n",
        "print(\"The two documents match about \" + str(matchPercentage) + \"%\")"
      ],
      "execution_count": 30,
      "outputs": [
        {
          "output_type": "stream",
          "text": [
            "The two documents match about 90.21%\n"
          ],
          "name": "stdout"
        }
      ]
    },
    {
      "cell_type": "code",
      "metadata": {
        "id": "kffBnOfk_1fj",
        "colab_type": "code",
        "colab": {
          "base_uri": "https://localhost:8080/",
          "height": 34
        },
        "outputId": "6f4fc678-51e8-43fa-c540-cc1040f4b39f"
      },
      "source": [
        "# From https://stackoverflow.com/questions/1746501/can-someone-give-an-example-of-cosine-similarity-in-a-very-simple-graphical-wa\n",
        "\n",
        "import math\n",
        "from collections import Counter\n",
        "\n",
        "def build_vector(iterable1, iterable2):\n",
        "    counter1 = Counter(iterable1)\n",
        "    counter2 = Counter(iterable2)\n",
        "    all_items = set(counter1.keys()).union(set(counter2.keys()))\n",
        "    vector1 = [counter1[k] for k in all_items]\n",
        "    vector2 = [counter2[k] for k in all_items]\n",
        "    return vector1, vector2\n",
        "\n",
        "def cosim(v1, v2):\n",
        "    dot_product = sum(n1 * n2 for n1, n2 in zip(v1, v2) )\n",
        "    magnitude1 = math.sqrt(sum(n ** 2 for n in v1))\n",
        "    magnitude2 = math.sqrt(sum(n ** 2 for n in v2))\n",
        "    return dot_product / (magnitude1 * magnitude2)\n",
        "\n",
        "l1 = \"Julie loves me more than Linda loves me\".split()\n",
        "l2 = \"Jane likes me more than Julie loves me or\".split()\n",
        "\n",
        "\n",
        "v1, v2 = build_vector(l1, l2)\n",
        "print(cosim(v1, v2))"
      ],
      "execution_count": 4,
      "outputs": [
        {
          "output_type": "stream",
          "text": [
            "0.7833494518006403\n"
          ],
          "name": "stdout"
        }
      ]
    },
    {
      "cell_type": "code",
      "metadata": {
        "id": "0ls9pHs1FzQ5",
        "colab_type": "code",
        "colab": {
          "base_uri": "https://localhost:8080/",
          "height": 34
        },
        "outputId": "c8f38a4d-1a1a-4284-9ee8-d55fe6b72577"
      },
      "source": [
        "print(v1)"
      ],
      "execution_count": 5,
      "outputs": [
        {
          "output_type": "stream",
          "text": [
            "[1, 1, 2, 0, 1, 0, 1, 0, 2]\n"
          ],
          "name": "stdout"
        }
      ]
    },
    {
      "cell_type": "code",
      "metadata": {
        "id": "6L1JqBzWFqdq",
        "colab_type": "code",
        "colab": {
          "base_uri": "https://localhost:8080/",
          "height": 34
        },
        "outputId": "43dacb46-6a1e-4bc4-d5db-d90da84ec411"
      },
      "source": [
        "print(v2)"
      ],
      "execution_count": 6,
      "outputs": [
        {
          "output_type": "stream",
          "text": [
            "[1, 0, 1, 1, 1, 1, 1, 1, 2]\n"
          ],
          "name": "stdout"
        }
      ]
    },
    {
      "cell_type": "code",
      "metadata": {
        "id": "g5U5GTzGF2v8",
        "colab_type": "code",
        "colab": {}
      },
      "source": [
        ""
      ],
      "execution_count": 0,
      "outputs": []
    }
  ]
}