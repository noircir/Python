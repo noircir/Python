{
  "nbformat": 4,
  "nbformat_minor": 0,
  "metadata": {
    "colab": {
      "name": "003-Lemmatization.ipynb",
      "provenance": [],
      "authorship_tag": "ABX9TyPoMbt2Yusi+moPvWevYUwp",
      "include_colab_link": true
    },
    "kernelspec": {
      "name": "python3",
      "display_name": "Python 3"
    }
  },
  "cells": [
    {
      "cell_type": "markdown",
      "metadata": {
        "id": "view-in-github",
        "colab_type": "text"
      },
      "source": [
        "<a href=\"https://colab.research.google.com/github/noircir/Python/blob/master/003_Lemmatization.ipynb\" target=\"_parent\"><img src=\"https://colab.research.google.com/assets/colab-badge.svg\" alt=\"Open In Colab\"/></a>"
      ]
    },
    {
      "cell_type": "markdown",
      "metadata": {
        "id": "TxGFd4ACes63",
        "colab_type": "text"
      },
      "source": [
        "## Lemmatization\n",
        "In contrast to stemming, lemmatization looks beyond word reduction, and considers a language's full vocabulary to apply a morphological analysis to words. The lemma of 'was' is 'be' and the lemma of 'mice' is 'mouse'. Further, the lemma of 'meeting' might be 'meet' or 'meeting' depending on its use in a sentence."
      ]
    },
    {
      "cell_type": "code",
      "metadata": {
        "id": "cXRBbgKHeSa4",
        "colab_type": "code",
        "colab": {}
      },
      "source": [
        "import spacy\n",
        "nlp = spacy.load('en_core_web_sm')"
      ],
      "execution_count": 0,
      "outputs": []
    },
    {
      "cell_type": "code",
      "metadata": {
        "id": "P765HLiqiHGj",
        "colab_type": "code",
        "colab": {
          "base_uri": "https://localhost:8080/",
          "height": 340
        },
        "outputId": "6e08943c-eb10-4715-f478-ddb3813a549d"
      },
      "source": [
        "doc1 = nlp(u\"I am a runner running in a race because I love to run since I ran and raced today\")\n",
        "\n",
        "for token in doc1:\n",
        "    print(token.text, '\\t\\t', token.pos_, '\\t', token.lemma, '\\t', token.lemma_)"
      ],
      "execution_count": 4,
      "outputs": [
        {
          "output_type": "stream",
          "text": [
            "I \t\t PRON \t 561228191312463089 \t -PRON-\n",
            "am \t\t VERB \t 10382539506755952630 \t be\n",
            "a \t\t DET \t 11901859001352538922 \t a\n",
            "runner \t\t NOUN \t 12640964157389618806 \t runner\n",
            "running \t\t VERB \t 12767647472892411841 \t run\n",
            "in \t\t ADP \t 3002984154512732771 \t in\n",
            "a \t\t DET \t 11901859001352538922 \t a\n",
            "race \t\t NOUN \t 8048469955494714898 \t race\n",
            "because \t\t ADP \t 16950148841647037698 \t because\n",
            "I \t\t PRON \t 561228191312463089 \t -PRON-\n",
            "love \t\t VERB \t 3702023516439754181 \t love\n",
            "to \t\t PART \t 3791531372978436496 \t to\n",
            "run \t\t VERB \t 12767647472892411841 \t run\n",
            "since \t\t ADP \t 10066841407251338481 \t since\n",
            "I \t\t PRON \t 561228191312463089 \t -PRON-\n",
            "ran \t\t VERB \t 12767647472892411841 \t run\n",
            "and \t\t CCONJ \t 2283656566040971221 \t and\n",
            "raced \t\t VERB \t 8048469955494714898 \t race\n",
            "today \t\t NOUN \t 11042482332948150395 \t today\n"
          ],
          "name": "stdout"
        }
      ]
    },
    {
      "cell_type": "code",
      "metadata": {
        "id": "kHZQNyC1iJfN",
        "colab_type": "code",
        "colab": {
          "base_uri": "https://localhost:8080/",
          "height": 34
        },
        "outputId": "4225d736-7ae9-4b7e-cb61-24dff0c715e3"
      },
      "source": [
        "print(len(doc1.vocab))"
      ],
      "execution_count": 6,
      "outputs": [
        {
          "output_type": "stream",
          "text": [
            "491\n"
          ],
          "name": "stdout"
        }
      ]
    },
    {
      "cell_type": "code",
      "metadata": {
        "id": "SIve-abMmgiY",
        "colab_type": "code",
        "colab": {}
      },
      "source": [
        "def show_lemmas(text):\n",
        "    for token in text:\n",
        "        print(f'{token.text:{12}} {token.pos_:{6}} {token.lemma:<{22}} {token.lemma_}')"
      ],
      "execution_count": 0,
      "outputs": []
    },
    {
      "cell_type": "code",
      "metadata": {
        "id": "xxZzfDuVm6Bv",
        "colab_type": "code",
        "colab": {
          "base_uri": "https://localhost:8080/",
          "height": 340
        },
        "outputId": "0cdc6338-653d-4dc1-ac1c-9b1ffa4a0dff"
      },
      "source": [
        "show_lemmas(doc1)"
      ],
      "execution_count": 14,
      "outputs": [
        {
          "output_type": "stream",
          "text": [
            "I            PRON   561228191312463089     -PRON-\n",
            "am           VERB   10382539506755952630   be\n",
            "a            DET    11901859001352538922   a\n",
            "runner       NOUN   12640964157389618806   runner\n",
            "running      VERB   12767647472892411841   run\n",
            "in           ADP    3002984154512732771    in\n",
            "a            DET    11901859001352538922   a\n",
            "race         NOUN   8048469955494714898    race\n",
            "because      ADP    16950148841647037698   because\n",
            "I            PRON   561228191312463089     -PRON-\n",
            "love         VERB   3702023516439754181    love\n",
            "to           PART   3791531372978436496    to\n",
            "run          VERB   12767647472892411841   run\n",
            "since        ADP    10066841407251338481   since\n",
            "I            PRON   561228191312463089     -PRON-\n",
            "ran          VERB   12767647472892411841   run\n",
            "and          CCONJ  2283656566040971221    and\n",
            "raced        VERB   8048469955494714898    race\n",
            "today        NOUN   11042482332948150395   today\n"
          ],
          "name": "stdout"
        }
      ]
    },
    {
      "cell_type": "code",
      "metadata": {
        "id": "NqOAfXjJm9z0",
        "colab_type": "code",
        "colab": {
          "base_uri": "https://localhost:8080/",
          "height": 119
        },
        "outputId": "f2df770a-341e-4bba-a921-af9c18198bf3"
      },
      "source": [
        "doc2 = nlp(u\"I saw eighteen mice today!\")\n",
        "\n",
        "show_lemmas(doc2)"
      ],
      "execution_count": 9,
      "outputs": [
        {
          "output_type": "stream",
          "text": [
            "I            PRON   561228191312463089     -PRON-\n",
            "saw          VERB   11925638236994514241   see\n",
            "eighteen     NUM    9609336664675087640    eighteen\n",
            "mice         NOUN   1384165645700560590    mouse\n",
            "today        NOUN   11042482332948150395   today\n",
            "!            PUNCT  17494803046312582752   !\n"
          ],
          "name": "stdout"
        }
      ]
    },
    {
      "cell_type": "code",
      "metadata": {
        "id": "tt_ed527nOdY",
        "colab_type": "code",
        "colab": {
          "base_uri": "https://localhost:8080/",
          "height": 170
        },
        "outputId": "8b3ca279-dfca-4f3f-da2c-887781bb09df"
      },
      "source": [
        "doc3 = nlp(u\"I am meeting him tomorrow at the meeting.\")\n",
        "\n",
        "show_lemmas(doc3)"
      ],
      "execution_count": 10,
      "outputs": [
        {
          "output_type": "stream",
          "text": [
            "I            PRON   561228191312463089     -PRON-\n",
            "am           VERB   10382539506755952630   be\n",
            "meeting      VERB   6880656908171229526    meet\n",
            "him          PRON   561228191312463089     -PRON-\n",
            "tomorrow     NOUN   3573583789758258062    tomorrow\n",
            "at           ADP    11667289587015813222   at\n",
            "the          DET    7425985699627899538    the\n",
            "meeting      NOUN   14798207169164081740   meeting\n",
            ".            PUNCT  12646065887601541794   .\n"
          ],
          "name": "stdout"
        }
      ]
    },
    {
      "cell_type": "code",
      "metadata": {
        "id": "R4zt4DCRnR2V",
        "colab_type": "code",
        "colab": {
          "base_uri": "https://localhost:8080/",
          "height": 102
        },
        "outputId": "500c78ac-b403-4e51-dfed-4339f08eed71"
      },
      "source": [
        "doc4 = nlp(u\"That's an enormous automobile\")\n",
        "\n",
        "show_lemmas(doc4)"
      ],
      "execution_count": 15,
      "outputs": [
        {
          "output_type": "stream",
          "text": [
            "That         DET    4380130941430378203    that\n",
            "'s           VERB   10382539506755952630   be\n",
            "an           DET    15099054000809333061   an\n",
            "enormous     ADJ    17917224542039855524   enormous\n",
            "automobile   NOUN   7211811266693931283    automobile\n"
          ],
          "name": "stdout"
        }
      ]
    },
    {
      "cell_type": "code",
      "metadata": {
        "id": "vSQL4dD1nk8y",
        "colab_type": "code",
        "colab": {}
      },
      "source": [
        ""
      ],
      "execution_count": 0,
      "outputs": []
    }
  ]
}