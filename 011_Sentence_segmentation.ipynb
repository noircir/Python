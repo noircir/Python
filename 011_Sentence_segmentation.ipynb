{
  "nbformat": 4,
  "nbformat_minor": 0,
  "metadata": {
    "colab": {
      "name": "011-Sentence-segmentation.ipynb",
      "provenance": [],
      "authorship_tag": "ABX9TyMHml9wLD2FYlaIKCDGBffE",
      "include_colab_link": true
    },
    "kernelspec": {
      "name": "python3",
      "display_name": "Python 3"
    }
  },
  "cells": [
    {
      "cell_type": "markdown",
      "metadata": {
        "id": "view-in-github",
        "colab_type": "text"
      },
      "source": [
        "<a href=\"https://colab.research.google.com/github/noircir/Python/blob/master/011_Sentence_segmentation.ipynb\" target=\"_parent\"><img src=\"https://colab.research.google.com/assets/colab-badge.svg\" alt=\"Open In Colab\"/></a>"
      ]
    },
    {
      "cell_type": "code",
      "metadata": {
        "id": "cnnDK1hp64I5",
        "colab_type": "code",
        "colab": {}
      },
      "source": [
        "import spacy\n",
        "nlp = spacy.load('en_core_web_sm')"
      ],
      "execution_count": 0,
      "outputs": []
    },
    {
      "cell_type": "code",
      "metadata": {
        "id": "CUdGpI3H7I01",
        "colab_type": "code",
        "outputId": "4cf6e189-0898-47f7-da50-21896f124856",
        "colab": {
          "base_uri": "https://localhost:8080/",
          "height": 68
        }
      },
      "source": [
        "doc = nlp(u'This is the first sentence. This is another sentence. This is the last sentence.')\n",
        "\n",
        "for sent in doc.sents:\n",
        "    print(sent)"
      ],
      "execution_count": 0,
      "outputs": [
        {
          "output_type": "stream",
          "text": [
            "This is the first sentence.\n",
            "This is another sentence.\n",
            "This is the last sentence.\n"
          ],
          "name": "stdout"
        }
      ]
    },
    {
      "cell_type": "markdown",
      "metadata": {
        "id": "dWUTBRN57P9F",
        "colab_type": "text"
      },
      "source": [
        "### `Doc.sents` is a generator\n",
        "It is important to note that `doc.sents` is a *generator*. That is, a Doc is not segmented until `doc.sents` is called. This means that, where you could print the second Doc token with `print(doc[1])`, you can't call the \"second Doc sentence\" with `print(doc.sents[1])`:"
      ]
    },
    {
      "cell_type": "code",
      "metadata": {
        "id": "D4Wknmzz7LVX",
        "colab_type": "code",
        "outputId": "9a295a74-66a6-4cfc-e97f-5a79644c26f0",
        "colab": {
          "base_uri": "https://localhost:8080/",
          "height": 34
        }
      },
      "source": [
        "doc[0]"
      ],
      "execution_count": 0,
      "outputs": [
        {
          "output_type": "execute_result",
          "data": {
            "text/plain": [
              "This"
            ]
          },
          "metadata": {
            "tags": []
          },
          "execution_count": 3
        }
      ]
    },
    {
      "cell_type": "markdown",
      "metadata": {
        "id": "N9BtrUEH7jrs",
        "colab_type": "text"
      },
      "source": [
        "However, you *can* build a sentence collection by running `doc.sents` and saving the result to a list:"
      ]
    },
    {
      "cell_type": "code",
      "metadata": {
        "id": "N0Ts9QLS7ar2",
        "colab_type": "code",
        "outputId": "de7371ce-6d53-4284-8794-079f7bbf02b9",
        "colab": {
          "base_uri": "https://localhost:8080/",
          "height": 68
        }
      },
      "source": [
        "doc_sents = [sent for sent in doc.sents]\n",
        "doc_sents"
      ],
      "execution_count": 0,
      "outputs": [
        {
          "output_type": "execute_result",
          "data": {
            "text/plain": [
              "[This is the first sentence.,\n",
              " This is another sentence.,\n",
              " This is the last sentence.]"
            ]
          },
          "metadata": {
            "tags": []
          },
          "execution_count": 4
        }
      ]
    },
    {
      "cell_type": "code",
      "metadata": {
        "id": "e0iSjR7y7qiW",
        "colab_type": "code",
        "outputId": "732f6f96-36a3-4788-ae3c-7f543cff7231",
        "colab": {
          "base_uri": "https://localhost:8080/",
          "height": 34
        }
      },
      "source": [
        "# But these are 'span' objects; they are not text strings.\n",
        "\n",
        "# list(doc.sents) also works. But, one can pass in conditionals with list comprehension.\n",
        "\n",
        "# Now you can access individual sentences:\n",
        "print(doc_sents[1])"
      ],
      "execution_count": 0,
      "outputs": [
        {
          "output_type": "stream",
          "text": [
            "This is another sentence.\n"
          ],
          "name": "stdout"
        }
      ]
    },
    {
      "cell_type": "code",
      "metadata": {
        "id": "szPX7Y8W9lYk",
        "colab_type": "code",
        "outputId": "e8b3803c-c071-4389-a85f-e43be0c86c28",
        "colab": {
          "base_uri": "https://localhost:8080/",
          "height": 34
        }
      },
      "source": [
        "type(doc_sents[1])"
      ],
      "execution_count": 0,
      "outputs": [
        {
          "output_type": "execute_result",
          "data": {
            "text/plain": [
              "spacy.tokens.span.Span"
            ]
          },
          "metadata": {
            "tags": []
          },
          "execution_count": 6
        }
      ]
    },
    {
      "cell_type": "code",
      "metadata": {
        "id": "DCyqD6lENuJr",
        "colab_type": "code",
        "outputId": "c63956a8-3945-4b09-cd14-48f14acdd9c4",
        "colab": {
          "base_uri": "https://localhost:8080/",
          "height": 34
        }
      },
      "source": [
        "print(doc_sents[1].start, doc_sents[1].end)"
      ],
      "execution_count": 0,
      "outputs": [
        {
          "output_type": "stream",
          "text": [
            "6 11\n"
          ],
          "name": "stdout"
        }
      ]
    },
    {
      "cell_type": "markdown",
      "metadata": {
        "id": "61ATY7-lOCCb",
        "colab_type": "text"
      },
      "source": [
        "## Adding Rules\n",
        "spaCy's built-in `sentencizer` relies on the dependency parse and end-of-sentence punctuation to determine segmentation rules. We can add rules of our own, but they have to be added *before* the creation of the Doc object, as that is where the parsing of segment start tokens happens:"
      ]
    },
    {
      "cell_type": "code",
      "metadata": {
        "id": "hnKFc0gGNxWx",
        "colab_type": "code",
        "outputId": "2330e438-3267-4a98-d215-707f137b35f8",
        "colab": {
          "base_uri": "https://localhost:8080/",
          "height": 272
        }
      },
      "source": [
        "# Parsing the segmentation start tokens happens during the nlp pipeline\n",
        "doc2 = nlp(u'This is a sentence. This is a sentence. This is a sentence.')\n",
        "\n",
        "for token in doc2:\n",
        "    print(token.is_sent_start, ' '+token.text)"
      ],
      "execution_count": 0,
      "outputs": [
        {
          "output_type": "stream",
          "text": [
            "True  This\n",
            "None  is\n",
            "None  a\n",
            "None  sentence\n",
            "None  .\n",
            "True  This\n",
            "None  is\n",
            "None  a\n",
            "None  sentence\n",
            "None  .\n",
            "True  This\n",
            "None  is\n",
            "None  a\n",
            "None  sentence\n",
            "None  .\n"
          ],
          "name": "stdout"
        }
      ]
    },
    {
      "cell_type": "code",
      "metadata": {
        "id": "Af_UijdJOE-w",
        "colab_type": "code",
        "colab": {}
      },
      "source": [
        "#Notice we haven't run doc2.sents, and yet token.is_sent_start was set to True on two tokens in the Doc."
      ],
      "execution_count": 0,
      "outputs": []
    },
    {
      "cell_type": "markdown",
      "metadata": {
        "id": "Njv8LWkCOePi",
        "colab_type": "text"
      },
      "source": [
        "Let's add a semicolon to our existing segmentation rules. That is, whenever the sentencizer encounters a semicolon, the next token should start a new segment."
      ]
    },
    {
      "cell_type": "code",
      "metadata": {
        "id": "B7Yoc6YVOUHA",
        "colab_type": "code",
        "outputId": "a38274f1-2eea-4162-9dc4-ee61acab0fae",
        "colab": {
          "base_uri": "https://localhost:8080/",
          "height": 68
        }
      },
      "source": [
        "# SPACY'S DEFAULT BEHAVIOR\n",
        "doc3 = nlp(u'\"Management is doing things right; leadership is doing the right things.\" -Peter Drucker')\n",
        "\n",
        "for sent in doc3.sents:\n",
        "    print(sent)"
      ],
      "execution_count": 0,
      "outputs": [
        {
          "output_type": "stream",
          "text": [
            "\"\n",
            "Management is doing things right; leadership is doing the right things.\n",
            "\" -Peter Drucker\n"
          ],
          "name": "stdout"
        }
      ]
    },
    {
      "cell_type": "code",
      "metadata": {
        "id": "qtVmBR_lOgum",
        "colab_type": "code",
        "outputId": "68928796-990f-426a-9478-8d7da42da285",
        "colab": {
          "base_uri": "https://localhost:8080/",
          "height": 306
        }
      },
      "source": [
        "for token in doc3:\n",
        "    print(token.is_sent_start, ' '+token.text)"
      ],
      "execution_count": 0,
      "outputs": [
        {
          "output_type": "stream",
          "text": [
            "True  \"\n",
            "True  Management\n",
            "None  is\n",
            "None  doing\n",
            "None  things\n",
            "None  right\n",
            "None  ;\n",
            "None  leadership\n",
            "None  is\n",
            "None  doing\n",
            "None  the\n",
            "None  right\n",
            "None  things\n",
            "None  .\n",
            "True  \"\n",
            "None  -Peter\n",
            "None  Drucker\n"
          ],
          "name": "stdout"
        }
      ]
    },
    {
      "cell_type": "code",
      "metadata": {
        "id": "hpvCpZL0Ompx",
        "colab_type": "code",
        "outputId": "74fbeb8e-ce65-4fcb-e3b9-d7fcc4d49ac2",
        "colab": {
          "base_uri": "https://localhost:8080/",
          "height": 34
        }
      },
      "source": [
        "# ADD A NEW RULE TO THE PIPELINE\n",
        "def set_custom_boundaries(doc):\n",
        "    for token in doc[:-1]:\n",
        "        if token.text == ';':\n",
        "            doc[token.i+1].is_sent_start = True\n",
        "    return doc\n",
        "\n",
        "nlp.add_pipe(set_custom_boundaries, before='parser')\n",
        "\n",
        "nlp.pipe_names"
      ],
      "execution_count": 0,
      "outputs": [
        {
          "output_type": "execute_result",
          "data": {
            "text/plain": [
              "['tagger', 'set_custom_boundaries', 'parser', 'ner']"
            ]
          },
          "metadata": {
            "tags": []
          },
          "execution_count": 12
        }
      ]
    },
    {
      "cell_type": "markdown",
      "metadata": {
        "id": "QHdGHHkuPHyW",
        "colab_type": "text"
      },
      "source": [
        "The new rule has to run before the document is parsed. Here we can either pass the argument before='parser' or first=True."
      ]
    },
    {
      "cell_type": "code",
      "metadata": {
        "id": "x2aRMuLGO5g3",
        "colab_type": "code",
        "outputId": "ba2b21e2-92c3-4b82-e184-ca9fffae5629",
        "colab": {
          "base_uri": "https://localhost:8080/",
          "height": 85
        }
      },
      "source": [
        "# Re-run the Doc object creation:\n",
        "doc4 = nlp(u'\"Management is doing things right; leadership is doing the right things.\" -Peter Drucker')\n",
        "\n",
        "for sent in doc4.sents:\n",
        "    print(sent)"
      ],
      "execution_count": 0,
      "outputs": [
        {
          "output_type": "stream",
          "text": [
            "\"\n",
            "Management is doing things right;\n",
            "leadership is doing the right things.\n",
            "\" -Peter Drucker\n"
          ],
          "name": "stdout"
        }
      ]
    },
    {
      "cell_type": "markdown",
      "metadata": {
        "id": "hXDvbj16QwX8",
        "colab_type": "text"
      },
      "source": [
        "### Why not change the token directly?\n",
        "Why not simply set the `.is_sent_start` value to True on existing tokens?"
      ]
    },
    {
      "cell_type": "code",
      "metadata": {
        "id": "CZ3Jch9tPLkw",
        "colab_type": "code",
        "outputId": "4d1a22fe-bf44-4328-fda5-ebbd1eaae478",
        "colab": {
          "base_uri": "https://localhost:8080/",
          "height": 34
        }
      },
      "source": [
        "# Find the token we want to change:\n",
        "doc3[7]"
      ],
      "execution_count": 0,
      "outputs": [
        {
          "output_type": "execute_result",
          "data": {
            "text/plain": [
              "leadership"
            ]
          },
          "metadata": {
            "tags": []
          },
          "execution_count": 14
        }
      ]
    },
    {
      "cell_type": "code",
      "metadata": {
        "id": "dODirhfYQzqG",
        "colab_type": "code",
        "outputId": "90231971-b3bb-4ef0-b8b1-4ec2bef77c91",
        "colab": {
          "base_uri": "https://localhost:8080/",
          "height": 198
        }
      },
      "source": [
        "# Try to change the .is_sent_start attribute:\n",
        "doc3[7].is_sent_start = True"
      ],
      "execution_count": 0,
      "outputs": [
        {
          "output_type": "error",
          "ename": "ValueError",
          "evalue": "ignored",
          "traceback": [
            "\u001b[0;31m---------------------------------------------------------------------------\u001b[0m",
            "\u001b[0;31mValueError\u001b[0m                                Traceback (most recent call last)",
            "\u001b[0;32m<ipython-input-15-83de2f71bb2a>\u001b[0m in \u001b[0;36m<module>\u001b[0;34m()\u001b[0m\n\u001b[0;32m----> 1\u001b[0;31m \u001b[0mdoc3\u001b[0m\u001b[0;34m[\u001b[0m\u001b[0;36m7\u001b[0m\u001b[0;34m]\u001b[0m\u001b[0;34m.\u001b[0m\u001b[0mis_sent_start\u001b[0m \u001b[0;34m=\u001b[0m \u001b[0;32mTrue\u001b[0m\u001b[0;34m\u001b[0m\u001b[0;34m\u001b[0m\u001b[0m\n\u001b[0m",
            "\u001b[0;32mtoken.pyx\u001b[0m in \u001b[0;36mspacy.tokens.token.Token.is_sent_start.__set__\u001b[0;34m()\u001b[0m\n",
            "\u001b[0;31mValueError\u001b[0m: [E043] Refusing to write to token.sent_start if its document is parsed, because this may cause inconsistent state."
          ]
        }
      ]
    },
    {
      "cell_type": "markdown",
      "metadata": {
        "id": "V9AefbHVQ7kx",
        "colab_type": "text"
      },
      "source": [
        "<font color=green>spaCy refuses to change the tag after the document is parsed to prevent inconsistencies in the data.</font>"
      ]
    },
    {
      "cell_type": "markdown",
      "metadata": {
        "id": "2_slDivJQ_YA",
        "colab_type": "text"
      },
      "source": [
        "## Changing the Rules\n",
        "In some cases we want to *replace* spaCy's default sentencizer with our own set of rules. In this section we'll see how the default sentencizer breaks on periods. We'll then replace this behavior with a sentencizer that breaks on linebreaks."
      ]
    },
    {
      "cell_type": "code",
      "metadata": {
        "id": "XJNVMsLaQ2xt",
        "colab_type": "code",
        "outputId": "c7fbf587-6332-46cb-ca0c-c32b4d47b32c",
        "colab": {
          "base_uri": "https://localhost:8080/",
          "height": 68
        }
      },
      "source": [
        "nlp = spacy.load('en_core_web_sm')  # reset to the original\n",
        "\n",
        "mystring = u\"This is a sentence. This is another.\\n\\nThis is a \\nthird sentence.\"\n",
        "\n",
        "# SPACY DEFAULT BEHAVIOR:\n",
        "doc = nlp(mystring)\n",
        "\n",
        "for sent in doc.sents:\n",
        "    print([token.text for token in sent])"
      ],
      "execution_count": 0,
      "outputs": [
        {
          "output_type": "stream",
          "text": [
            "['This', 'is', 'a', 'sentence', '.']\n",
            "['This', 'is', 'another', '.', '\\n\\n']\n",
            "['This', 'is', 'a', '\\n', 'third', 'sentence', '.']\n"
          ],
          "name": "stdout"
        }
      ]
    },
    {
      "cell_type": "code",
      "metadata": {
        "id": "1REgXPGZU_cP",
        "colab_type": "code",
        "colab": {}
      },
      "source": [
        "# CHANGING THE RULES\n",
        "from spacy.pipeline import SentenceSegmenter\n",
        "\n",
        "def split_on_newlines(doc):\n",
        "    start = 0\n",
        "    seen_newline = False\n",
        "    for word in doc:\n",
        "        if seen_newline:\n",
        "            yield doc[start:word.i]\n",
        "            start = word.i\n",
        "            seen_newline = False\n",
        "        elif word.text.startswith('\\n'): # handles multiple occurrences\n",
        "            seen_newline = True\n",
        "    yield doc[start:]      # handles the last group of tokens\n",
        "\n",
        "\n",
        "sbd = SentenceSegmenter(nlp.vocab, strategy=split_on_newlines)\n",
        "nlp.add_pipe(sbd)"
      ],
      "execution_count": 0,
      "outputs": []
    },
    {
      "cell_type": "code",
      "metadata": {
        "id": "OPpPzSIbVE5A",
        "colab_type": "code",
        "colab": {}
      },
      "source": [
        "# While the function split_on_newlines can be named anything we want, it's important to use the name sbd for the SentenceSegmenter."
      ],
      "execution_count": 0,
      "outputs": []
    },
    {
      "cell_type": "code",
      "metadata": {
        "id": "MRwhCEmpVkkt",
        "colab_type": "code",
        "outputId": "b78b4e4b-5d53-437a-efd1-4526b537f4fd",
        "colab": {
          "base_uri": "https://localhost:8080/",
          "height": 68
        }
      },
      "source": [
        "doc = nlp(mystring)\n",
        "for sent in doc.sents:\n",
        "    print([token.text for token in sent])"
      ],
      "execution_count": 0,
      "outputs": [
        {
          "output_type": "stream",
          "text": [
            "['This', 'is', 'a', 'sentence', '.', 'This', 'is', 'another', '.', '\\n\\n']\n",
            "['This', 'is', 'a', '\\n']\n",
            "['third', 'sentence', '.']\n"
          ],
          "name": "stdout"
        }
      ]
    },
    {
      "cell_type": "code",
      "metadata": {
        "id": "GsnkuT-QVoqI",
        "colab_type": "code",
        "outputId": "380e58ff-a312-4416-ab5f-f1e6c3660aa5",
        "colab": {
          "base_uri": "https://localhost:8080/",
          "height": 119
        }
      },
      "source": [
        "# Now we've completely overwritten the default Spacy behavior\n",
        "# (splitting on periods) with a new behavior of splitting on new lines.\n",
        "# Instead of new lines, any other symbol may be used.\n",
        "\n",
        "for sent in doc.sents:\n",
        "    print(sent)"
      ],
      "execution_count": 0,
      "outputs": [
        {
          "output_type": "stream",
          "text": [
            "This is a sentence. This is another.\n",
            "\n",
            "\n",
            "This is a \n",
            "\n",
            "third sentence.\n"
          ],
          "name": "stdout"
        }
      ]
    },
    {
      "cell_type": "code",
      "metadata": {
        "id": "ML63pw_jWQ3Z",
        "colab_type": "code",
        "colab": {}
      },
      "source": [
        "# Here we see that periods no longer affect segmentation, only linebreaks do. This would be appropriate when working \n",
        "# with a long list of tweets, for instance. (Or with clauses.)"
      ],
      "execution_count": 0,
      "outputs": []
    },
    {
      "cell_type": "code",
      "metadata": {
        "id": "GrZO5ZIqWzo6",
        "colab_type": "code",
        "colab": {}
      },
      "source": [
        "my_doc = '''\n",
        "0.01.17\tFormulaire de Soumission [Essentielle]\n",
        "\n",
        "désigne, relativement au Contrat, le Formulaire de Soumission dûment complété, signé et déposé par l’ENTREPRENEUR pour soumettre sa Soumission relativement à l’Appel d’Offres, subséquemment accepté par l’ORGANISME PUBLIC conformément à la procédure prévue aux Documents d’Appel d’Offres, incluant toutes ses annexes, dont notamment le Bordereau de Prix; \n",
        "\n",
        "0.01.18\tInstitution Financière [Essentielle]\n",
        "\n",
        "désigne un assureur détenant un permis émis conformément à la Loi sur les assurances (RLRQ, chapitre A-32) l'autorisant à pratiquer l'assurance cautionnement, une société de fiducie titulaire d'un permis délivré en vertu de la Loi sur les sociétés de fiducie et les sociétés d'épargne (RLRQ, chapitre S-29.01), une coopérative de services financiers visée par la Loi sur les coopératives de services financiers (RLRQ, chapitre C-67.3), ou une banque au sens de la Loi sur les banques (L.C. 1991, c. 46);\n",
        "\n",
        "0.01.19\tLoi [Essentielle]\n",
        "\n",
        "désigne, selon le cas, qu’il s’agisse d’une juridiction fédérale, provinciale, municipale ou étrangère, une loi, un règlement, une ordonnance, un décret, un arrêté-en-conseil, une directive ou politique administrative ou autre instrument législatif ou exécutif d’une autorité publique, une règle de droit commun ainsi que toute décision judiciaire et administrative par un tribunal compétent se rapportant à leur validité, interprétation et application et comprend, lorsque requis, un traité international et un accord inter-provincial ou inter-gouvernemental;\n",
        "\n",
        "'''"
      ],
      "execution_count": 0,
      "outputs": []
    },
    {
      "cell_type": "code",
      "metadata": {
        "id": "-AVUx_oNY0FL",
        "colab_type": "code",
        "colab": {}
      },
      "source": [
        "doc = nlp(my_doc)\n",
        "\n",
        "for sent in doc.sents:\n",
        "    print(sent)"
      ],
      "execution_count": 0,
      "outputs": []
    },
    {
      "cell_type": "code",
      "metadata": {
        "id": "dMJmaSCsY8iI",
        "colab_type": "code",
        "colab": {}
      },
      "source": [
        ""
      ],
      "execution_count": 0,
      "outputs": []
    },
    {
      "cell_type": "code",
      "metadata": {
        "id": "yPPT4vvMZWbd",
        "colab_type": "code",
        "colab": {}
      },
      "source": [
        "doc = nlp(new_doc)\n",
        "\n",
        "for sent in doc.sents:\n",
        "    print(sent)"
      ],
      "execution_count": 0,
      "outputs": []
    },
    {
      "cell_type": "code",
      "metadata": {
        "id": "j9H5pz8GZaP7",
        "colab_type": "code",
        "colab": {}
      },
      "source": [
        ""
      ],
      "execution_count": 0,
      "outputs": []
    }
  ]
}