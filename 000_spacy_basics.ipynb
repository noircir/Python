{
  "nbformat": 4,
  "nbformat_minor": 0,
  "metadata": {
    "colab": {
      "name": "000_spacy_basics.ipynb",
      "provenance": [],
      "authorship_tag": "ABX9TyMEYRjBeGEzPuRM/13FPLbE",
      "include_colab_link": true
    },
    "kernelspec": {
      "name": "python3",
      "display_name": "Python 3"
    }
  },
  "cells": [
    {
      "cell_type": "markdown",
      "metadata": {
        "id": "view-in-github",
        "colab_type": "text"
      },
      "source": [
        "<a href=\"https://colab.research.google.com/github/noircir/Python/blob/master/000_spacy_basics.ipynb\" target=\"_parent\"><img src=\"https://colab.research.google.com/assets/colab-badge.svg\" alt=\"Open In Colab\"/></a>"
      ]
    },
    {
      "cell_type": "code",
      "metadata": {
        "id": "CvF_av-vO5Ny",
        "colab_type": "code",
        "colab": {}
      },
      "source": [
        "!pip install -U spacy"
      ],
      "execution_count": 0,
      "outputs": []
    },
    {
      "cell_type": "code",
      "metadata": {
        "id": "cKd5tMdXO-fp",
        "colab_type": "code",
        "colab": {}
      },
      "source": [
        "!python -m spacy download en"
      ],
      "execution_count": 0,
      "outputs": []
    },
    {
      "cell_type": "code",
      "metadata": {
        "id": "eW_4GDTJPbsM",
        "colab_type": "code",
        "colab": {}
      },
      "source": [
        "## Steps of working with Spacy\n",
        "\n",
        "# 1. Loading the language library\n",
        "# 2. Building a pipeline object\n",
        "# 3. Using tokens\n",
        "# 4. POS tagging\n",
        "# 5. Understanding token attributes"
      ],
      "execution_count": 0,
      "outputs": []
    },
    {
      "cell_type": "code",
      "metadata": {
        "id": "qLRDkDAgRfIa",
        "colab_type": "code",
        "colab": {}
      },
      "source": [
        "import spacy\n",
        "# create a model 'nlp'\n",
        "nlp = spacy.load('en_core_web_sm')"
      ],
      "execution_count": 0,
      "outputs": []
    },
    {
      "cell_type": "code",
      "metadata": {
        "id": "Tvf2OgR1SCJ6",
        "colab_type": "code",
        "colab": {}
      },
      "source": [
        "# Create a Doc object by applying the 'nlp'model to our text\n",
        "doc = nlp(u'Tesla is looking at buying U.S. startup for $6 million')"
      ],
      "execution_count": 0,
      "outputs": []
    },
    {
      "cell_type": "markdown",
      "metadata": {
        "id": "03s_ijo4aSMN",
        "colab_type": "text"
      },
      "source": [
        "## Tokenization"
      ]
    },
    {
      "cell_type": "code",
      "metadata": {
        "id": "wKjPT8jpSJ9u",
        "colab_type": "code",
        "colab": {
          "base_uri": "https://localhost:8080/",
          "height": 204
        },
        "outputId": "91a9cd68-e3fe-4e0d-9f95-0e42782a31d9"
      },
      "source": [
        "for token in doc:\n",
        "  # with underscore = raw data\n",
        "  # dep = syntactic dependency\n",
        "  print(token.text, token.pos_, token.dep_)"
      ],
      "execution_count": 12,
      "outputs": [
        {
          "output_type": "stream",
          "text": [
            "Tesla PROPN nsubj\n",
            "is AUX aux\n",
            "looking VERB ROOT\n",
            "at ADP prep\n",
            "buying VERB pcomp\n",
            "U.S. PROPN compound\n",
            "startup NOUN dobj\n",
            "for ADP prep\n",
            "$ SYM quantmod\n",
            "6 NUM compound\n",
            "million NUM pobj\n"
          ],
          "name": "stdout"
        }
      ]
    },
    {
      "cell_type": "markdown",
      "metadata": {
        "id": "-jzqaeVvVIsG",
        "colab_type": "text"
      },
      "source": [
        "Spacy pipelines: https://spacy.io/usage/spacy-101#pipelines"
      ]
    },
    {
      "cell_type": "markdown",
      "metadata": {
        "id": "nLiEMDboaVgi",
        "colab_type": "text"
      },
      "source": [
        "## Pipeline"
      ]
    },
    {
      "cell_type": "code",
      "metadata": {
        "id": "5OVEviD1SXdR",
        "colab_type": "code",
        "colab": {
          "base_uri": "https://localhost:8080/",
          "height": 68
        },
        "outputId": "4a416ce4-75c5-4248-d6e8-d786169340d4"
      },
      "source": [
        "nlp.pipeline"
      ],
      "execution_count": 13,
      "outputs": [
        {
          "output_type": "execute_result",
          "data": {
            "text/plain": [
              "[('tagger', <spacy.pipeline.pipes.Tagger at 0x7f6b05499588>),\n",
              " ('parser', <spacy.pipeline.pipes.DependencyParser at 0x7f6b053311c8>),\n",
              " ('ner', <spacy.pipeline.pipes.EntityRecognizer at 0x7f6b05331228>)]"
            ]
          },
          "metadata": {
            "tags": []
          },
          "execution_count": 13
        }
      ]
    },
    {
      "cell_type": "code",
      "metadata": {
        "id": "0syLpCxMUAE2",
        "colab_type": "code",
        "colab": {
          "base_uri": "https://localhost:8080/",
          "height": 34
        },
        "outputId": "c528dac1-7323-4be7-b69b-5ecf2b44d9c6"
      },
      "source": [
        "nlp.pipe_names"
      ],
      "execution_count": 14,
      "outputs": [
        {
          "output_type": "execute_result",
          "data": {
            "text/plain": [
              "['tagger', 'parser', 'ner']"
            ]
          },
          "metadata": {
            "tags": []
          },
          "execution_count": 14
        }
      ]
    },
    {
      "cell_type": "markdown",
      "metadata": {
        "id": "wVxqA7jWaemW",
        "colab_type": "text"
      },
      "source": [
        "## POS tagging"
      ]
    },
    {
      "cell_type": "code",
      "metadata": {
        "id": "aAbML9viUFp5",
        "colab_type": "code",
        "colab": {
          "base_uri": "https://localhost:8080/",
          "height": 170
        },
        "outputId": "840ec5c9-e2c5-4d15-daa0-240c86e32eac"
      },
      "source": [
        "# u = a Unicode string\n",
        "doc2 = nlp(u\"Tesla isn't    looking into startups anymore.\")\n",
        "\n",
        "for token in doc2:\n",
        "    print(token.text, token.pos_, token.dep_)"
      ],
      "execution_count": 17,
      "outputs": [
        {
          "output_type": "stream",
          "text": [
            "Tesla PROPN nsubj\n",
            "is AUX ROOT\n",
            "n't PART neg\n",
            "    SPACE \n",
            "looking VERB acomp\n",
            "into ADP prep\n",
            "startups NOUN pobj\n",
            "anymore ADV advmod\n",
            ". PUNCT punct\n"
          ],
          "name": "stdout"
        }
      ]
    },
    {
      "cell_type": "code",
      "metadata": {
        "id": "1TO_F13iUZQH",
        "colab_type": "code",
        "colab": {
          "base_uri": "https://localhost:8080/",
          "height": 34
        },
        "outputId": "3de60d9f-a572-41da-abd0-000be34b65f0"
      },
      "source": [
        "# We can grab inividual tokens...\n",
        "doc2[0]"
      ],
      "execution_count": 18,
      "outputs": [
        {
          "output_type": "execute_result",
          "data": {
            "text/plain": [
              "Tesla"
            ]
          },
          "metadata": {
            "tags": []
          },
          "execution_count": 18
        }
      ]
    },
    {
      "cell_type": "code",
      "metadata": {
        "id": "nwCnk8l3U4MS",
        "colab_type": "code",
        "colab": {
          "base_uri": "https://localhost:8080/",
          "height": 34
        },
        "outputId": "8f95c3bf-3772-4511-bc26-f786811faae0"
      },
      "source": [
        "# and extract attributes\n",
        "doc2[0].pos_"
      ],
      "execution_count": 20,
      "outputs": [
        {
          "output_type": "execute_result",
          "data": {
            "text/plain": [
              "'PROPN'"
            ]
          },
          "metadata": {
            "tags": []
          },
          "execution_count": 20
        }
      ]
    },
    {
      "cell_type": "code",
      "metadata": {
        "id": "iOQl41lbWEy1",
        "colab_type": "code",
        "colab": {
          "base_uri": "https://localhost:8080/",
          "height": 34
        },
        "outputId": "138ff8b2-f2b1-4c88-dc54-54ea15728eda"
      },
      "source": [
        "type(doc2)"
      ],
      "execution_count": 21,
      "outputs": [
        {
          "output_type": "execute_result",
          "data": {
            "text/plain": [
              "spacy.tokens.doc.Doc"
            ]
          },
          "metadata": {
            "tags": []
          },
          "execution_count": 21
        }
      ]
    },
    {
      "cell_type": "markdown",
      "metadata": {
        "id": "rwdL2WxUa2Iy",
        "colab_type": "text"
      },
      "source": [
        "## Dependencies"
      ]
    },
    {
      "cell_type": "markdown",
      "metadata": {
        "id": "MhPIZI8ZVuPc",
        "colab_type": "text"
      },
      "source": [
        "Spacy's part-of-speech tagging: https://spacy.io/api/annotation#pos-tagging\n",
        "\n",
        "Dependency parsing: https://spacy.io/api/annotation#dependency-parsing\n",
        "\n",
        "Dependencies manual: https://nlp.stanford.edu/software/dependencies_manual.pdf"
      ]
    },
    {
      "cell_type": "code",
      "metadata": {
        "id": "wozpxF22U7MM",
        "colab_type": "code",
        "colab": {
          "base_uri": "https://localhost:8080/",
          "height": 34
        },
        "outputId": "837069a4-35d2-4d50-b479-6f376764545d"
      },
      "source": [
        "doc2[0].dep_"
      ],
      "execution_count": 22,
      "outputs": [
        {
          "output_type": "execute_result",
          "data": {
            "text/plain": [
              "'nsubj'"
            ]
          },
          "metadata": {
            "tags": []
          },
          "execution_count": 22
        }
      ]
    },
    {
      "cell_type": "code",
      "metadata": {
        "id": "GIeWXKKbWgnk",
        "colab_type": "code",
        "colab": {
          "base_uri": "https://localhost:8080/",
          "height": 34
        },
        "outputId": "10598270-5cef-4018-d430-01cb1574c204"
      },
      "source": [
        "# To see the full name of a tag use\n",
        "\n",
        "spacy.explain('PROPN')"
      ],
      "execution_count": 23,
      "outputs": [
        {
          "output_type": "execute_result",
          "data": {
            "text/plain": [
              "'proper noun'"
            ]
          },
          "metadata": {
            "tags": []
          },
          "execution_count": 23
        }
      ]
    },
    {
      "cell_type": "code",
      "metadata": {
        "id": "KFHo201FWnnb",
        "colab_type": "code",
        "colab": {
          "base_uri": "https://localhost:8080/",
          "height": 34
        },
        "outputId": "891923c2-1fa0-41fc-e8ee-e135954aaaa5"
      },
      "source": [
        "spacy.explain('nsubj')"
      ],
      "execution_count": 24,
      "outputs": [
        {
          "output_type": "execute_result",
          "data": {
            "text/plain": [
              "'nominal subject'"
            ]
          },
          "metadata": {
            "tags": []
          },
          "execution_count": 24
        }
      ]
    },
    {
      "cell_type": "markdown",
      "metadata": {
        "id": "i3mFTdCDa7v5",
        "colab_type": "text"
      },
      "source": [
        "## Additional token attributes"
      ]
    },
    {
      "cell_type": "code",
      "metadata": {
        "id": "r2C_y8_2WqUF",
        "colab_type": "code",
        "colab": {
          "base_uri": "https://localhost:8080/",
          "height": 51
        },
        "outputId": "28d8990d-e1c0-48a8-c918-f458b3e132b1"
      },
      "source": [
        "# Lemmas (the base form of the word):\n",
        "print(doc2[4].text)\n",
        "print(doc2[4].lemma_)"
      ],
      "execution_count": 25,
      "outputs": [
        {
          "output_type": "stream",
          "text": [
            "looking\n",
            "look\n"
          ],
          "name": "stdout"
        }
      ]
    },
    {
      "cell_type": "code",
      "metadata": {
        "id": "tD_8S1NNZ1Dy",
        "colab_type": "code",
        "colab": {
          "base_uri": "https://localhost:8080/",
          "height": 51
        },
        "outputId": "34942930-ed9a-40e2-dcdf-0c5989ed937b"
      },
      "source": [
        "# Simple Parts-of-Speech & Detailed Tags:\n",
        "print(doc2[4].pos_)\n",
        "print(doc2[4].tag_ + ' / ' + spacy.explain(doc2[4].tag_))"
      ],
      "execution_count": 26,
      "outputs": [
        {
          "output_type": "stream",
          "text": [
            "VERB\n",
            "VBG / verb, gerund or present participle\n"
          ],
          "name": "stdout"
        }
      ]
    },
    {
      "cell_type": "code",
      "metadata": {
        "id": "pxkOcXnvZ47w",
        "colab_type": "code",
        "colab": {
          "base_uri": "https://localhost:8080/",
          "height": 51
        },
        "outputId": "d29b2524-53cf-4e29-b4c1-d6439aac74a9"
      },
      "source": [
        "# Word Shapes:\n",
        "print(doc2[0].text+': '+doc2[0].shape_)\n",
        "print(doc[5].text+' : '+doc[5].shape_)"
      ],
      "execution_count": 27,
      "outputs": [
        {
          "output_type": "stream",
          "text": [
            "Tesla: Xxxxx\n",
            "U.S. : X.X.\n"
          ],
          "name": "stdout"
        }
      ]
    },
    {
      "cell_type": "code",
      "metadata": {
        "id": "OO1R6bgaaBPu",
        "colab_type": "code",
        "colab": {
          "base_uri": "https://localhost:8080/",
          "height": 51
        },
        "outputId": "b6f36d07-dc03-4c1c-cbfa-4c8cb6cca928"
      },
      "source": [
        "# Boolean Values:\n",
        "print(doc2[0].is_alpha) # is alphabetic\n",
        "print(doc2[0].is_stop)  # is a stopword"
      ],
      "execution_count": 28,
      "outputs": [
        {
          "output_type": "stream",
          "text": [
            "True\n",
            "False\n"
          ],
          "name": "stdout"
        }
      ]
    },
    {
      "cell_type": "markdown",
      "metadata": {
        "id": "V1R0uf8TbBnC",
        "colab_type": "text"
      },
      "source": [
        "## Spans\n",
        "\n",
        "Large Doc objects can be hard to work with at times. A span is a slice of Doc object in the form Doc[start:stop]."
      ]
    },
    {
      "cell_type": "code",
      "metadata": {
        "id": "RmBrWjdFaEQc",
        "colab_type": "code",
        "colab": {}
      },
      "source": [
        "doc3 = nlp(u'Although commmonly attributed to John Lennon from his song \"Beautiful Boy\", \\\n",
        "the phrase \"Life is what happens to us while we are making other plans\" was written by \\\n",
        "cartoonist Allen Saunders and published in Reader\\'s Digest in 1957, when Lennon was 17.')"
      ],
      "execution_count": 0,
      "outputs": []
    },
    {
      "cell_type": "code",
      "metadata": {
        "id": "lVTYf-MabR8M",
        "colab_type": "code",
        "colab": {
          "base_uri": "https://localhost:8080/",
          "height": 34
        },
        "outputId": "9ae55ca1-becc-4da7-857f-bb32401b96d2"
      },
      "source": [
        "life_quote = doc3[16:30]\n",
        "print(life_quote)"
      ],
      "execution_count": 30,
      "outputs": [
        {
          "output_type": "stream",
          "text": [
            "\"Life is what happens to us while we are making other plans\"\n"
          ],
          "name": "stdout"
        }
      ]
    },
    {
      "cell_type": "code",
      "metadata": {
        "id": "4AyR9Ui7bZVy",
        "colab_type": "code",
        "colab": {
          "base_uri": "https://localhost:8080/",
          "height": 34
        },
        "outputId": "f179e4c7-b00d-4493-905e-3cffc06d4feb"
      },
      "source": [
        "type(life_quote)"
      ],
      "execution_count": 31,
      "outputs": [
        {
          "output_type": "execute_result",
          "data": {
            "text/plain": [
              "spacy.tokens.span.Span"
            ]
          },
          "metadata": {
            "tags": []
          },
          "execution_count": 31
        }
      ]
    },
    {
      "cell_type": "markdown",
      "metadata": {
        "id": "WcsTBxnAbzRz",
        "colab_type": "text"
      },
      "source": [
        "## Sentences\n",
        "Certain tokens inside a Doc object may also receive a \"start of sentence\" tag. While this doesn't immediately build a list of sentences, these tags enable the generation of sentence segments through Doc.sents. Later we'll write our own segmentation rules."
      ]
    },
    {
      "cell_type": "code",
      "metadata": {
        "id": "mlfKKcn9bkkO",
        "colab_type": "code",
        "colab": {
          "base_uri": "https://localhost:8080/",
          "height": 68
        },
        "outputId": "b5439f90-5b1a-4c38-c549-7d72e3737fb6"
      },
      "source": [
        "doc4 = nlp(u'This is the first sentence. This is another sentence. This is the last sentence.')\n",
        "\n",
        "for sent in doc4.sents:\n",
        "    print(sent)"
      ],
      "execution_count": 32,
      "outputs": [
        {
          "output_type": "stream",
          "text": [
            "This is the first sentence.\n",
            "This is another sentence.\n",
            "This is the last sentence.\n"
          ],
          "name": "stdout"
        }
      ]
    },
    {
      "cell_type": "code",
      "metadata": {
        "id": "KrDVeHwtcA8G",
        "colab_type": "code",
        "colab": {
          "base_uri": "https://localhost:8080/",
          "height": 34
        },
        "outputId": "0099d314-1f3d-4bb2-8383-a5a7621c924a"
      },
      "source": [
        "doc4[6].is_sent_start"
      ],
      "execution_count": 33,
      "outputs": [
        {
          "output_type": "execute_result",
          "data": {
            "text/plain": [
              "True"
            ]
          },
          "metadata": {
            "tags": []
          },
          "execution_count": 33
        }
      ]
    },
    {
      "cell_type": "code",
      "metadata": {
        "id": "KY_nuvgncJ-P",
        "colab_type": "code",
        "colab": {}
      },
      "source": [
        ""
      ],
      "execution_count": 0,
      "outputs": []
    }
  ]
}