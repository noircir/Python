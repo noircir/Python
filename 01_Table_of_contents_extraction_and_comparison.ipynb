{
  "nbformat": 4,
  "nbformat_minor": 0,
  "metadata": {
    "colab": {
      "name": "01-Table-of-contents-extraction-and-comparison.ipynb",
      "provenance": [],
      "collapsed_sections": [],
      "mount_file_id": "1NouQZWphTHZQl5aBT0RREi2B3IdqyqhH",
      "authorship_tag": "ABX9TyNRKRHL+bkM5PC4jiH1Rx6i",
      "include_colab_link": true
    },
    "kernelspec": {
      "name": "python3",
      "display_name": "Python 3"
    }
  },
  "cells": [
    {
      "cell_type": "markdown",
      "metadata": {
        "id": "view-in-github",
        "colab_type": "text"
      },
      "source": [
        "<a href=\"https://colab.research.google.com/github/noircir/Python/blob/master/01_Table_of_contents_extraction_and_comparison.ipynb\" target=\"_parent\"><img src=\"https://colab.research.google.com/assets/colab-badge.svg\" alt=\"Open In Colab\"/></a>"
      ]
    },
    {
      "cell_type": "code",
      "metadata": {
        "id": "tptrH3_Ij8rQ",
        "colab_type": "code",
        "colab": {
          "base_uri": "https://localhost:8080/",
          "height": 34
        },
        "outputId": "4c608e5c-638e-41c4-d0a9-20d103ab3021"
      },
      "source": [
        "# Install the docx2txt package\n",
        "!pip install docx2txt"
      ],
      "execution_count": 75,
      "outputs": [
        {
          "output_type": "stream",
          "text": [
            "Requirement already satisfied: docx2txt in /usr/local/lib/python3.6/dist-packages (0.8)\n"
          ],
          "name": "stdout"
        }
      ]
    },
    {
      "cell_type": "code",
      "metadata": {
        "id": "x4bXJcYsqCAX",
        "colab_type": "code",
        "colab": {}
      },
      "source": [
        "import docx2txt\n",
        "import re"
      ],
      "execution_count": 0,
      "outputs": []
    },
    {
      "cell_type": "code",
      "metadata": {
        "id": "i8lzzIT_pYTz",
        "colab_type": "code",
        "colab": {}
      },
      "source": [
        "master = docx2txt.process(\"/mypath/master.docx\")\n",
        "doc10 = docx2txt.process(\"/mypath/document10.docx\")\n",
        "doc14 = docx2txt.process(\"/mypath/document14.docx\")\n",
        "doc15 = docx2txt.process(\"/mypath/document15.docx\")\n",
        "doc16 = docx2txt.process(\"/mypath/document16.docx\")\n",
        "doc18 = docx2txt.process(\"/mypath/document18.docx\")"
      ],
      "execution_count": 0,
      "outputs": []
    },
    {
      "cell_type": "code",
      "metadata": {
        "id": "MkfkrmNsvJCk",
        "colab_type": "code",
        "colab": {}
      },
      "source": [
        "# Extract from the table of contents: full titles with numbering, titles alone as strings, and total count\n",
        "\n",
        "def extract_table_of_contents(text):\n",
        "  sentence_list = doc.split('\\n')\n",
        "\n",
        "  total_count = 0\n",
        "  all_numbered_titles = []\n",
        "  titles_no_numbering = []\n",
        "\n",
        "  #r = \"^(\\d{1,2}\\.?)+\\s+(\\D+\\s?)+\"\n",
        "\n",
        "  r = re.compile(\"^(\\d{1,2}\\.?)+\\s+(\\D+\\s?)+\", flags=re.IGNORECASE)\n",
        "\n",
        "  for x, item in enumerate(sentence_list):\n",
        "    item = item.strip()\n",
        "    res = re.match(r, item)\n",
        "    if res:\n",
        "      total_count += 1\n",
        "      all_numbered_titles.append(res[0].strip())\n",
        "      titles_no_numbering.append(res[2].strip())\n",
        "\n",
        "  return(total_count, all_numbered_titles, titles_no_numbering)"
      ],
      "execution_count": 0,
      "outputs": []
    },
    {
      "cell_type": "code",
      "metadata": {
        "id": "URa3VIkvyb_j",
        "colab_type": "code",
        "colab": {}
      },
      "source": [
        "# Extract only top chapters from TOC\n",
        "\n",
        "def extract_top_chapters(doc):\n",
        "\n",
        "  chapter_count = 0\n",
        "  chapters = []\n",
        "\n",
        "  _, all_numbered_titles, _ = extract_table_of_contents(doc)\n",
        "\n",
        "  for item in all_numbered_titles:\n",
        "    if item.split('.')[1].startswith(\"00\"):\n",
        "      chapter_count += 1\n",
        "      chapters.append(item)\n",
        "      #print(item)\n",
        "  return chapter_count, chapters"
      ],
      "execution_count": 0,
      "outputs": []
    },
    {
      "cell_type": "code",
      "metadata": {
        "id": "AmroembHyQN4",
        "colab_type": "code",
        "colab": {}
      },
      "source": [
        "_, top = extract_top_chapters(doc15)\n",
        "for item in top:\n",
        "  print(item)"
      ],
      "execution_count": 0,
      "outputs": []
    },
    {
      "cell_type": "code",
      "metadata": {
        "id": "jaPJtZQZTjoR",
        "colab_type": "code",
        "colab": {}
      },
      "source": [
        "# Print full titles\n",
        "\n",
        "def print_full_titles(doc):\n",
        "  total_count, all_numbered_titles, titles_no_numbering = extract_table_of_contents(doc)\n",
        "  for item in all_numbered_titles:\n",
        "    print(item)\n",
        "\n",
        "print_full_titles(doc15)"
      ],
      "execution_count": 0,
      "outputs": []
    },
    {
      "cell_type": "code",
      "metadata": {
        "id": "-V6SXlRYVk6Y",
        "colab_type": "code",
        "colab": {}
      },
      "source": [
        "def are_identical(list1, list2):\n",
        "  res = list(set(list1) ^ set(list2))\n",
        "\n",
        "  if res == []: \n",
        "    return True\n",
        "  else : \n",
        "    return res"
      ],
      "execution_count": 0,
      "outputs": []
    },
    {
      "cell_type": "code",
      "metadata": {
        "id": "YTsbLf84ug0l",
        "colab_type": "code",
        "colab": {}
      },
      "source": [
        "# Compare TOCs: return True, or the differences\n",
        "\n",
        "def compare_table_of_contents(doc1, doc2):\n",
        "  count1, full_toc1, toc_titles1 = extract_table_of_contents(doc1)\n",
        "  count2, full_toc2, toc_titles2 = extract_table_of_contents(doc2)\n",
        "\n",
        "  #chapters1 = extract_main_chapters(doc1)\n",
        "  #chapters2 = extract_main_chapters(doc2)\n",
        "\n",
        "  return are_identical(full_toc1, full_toc2)"
      ],
      "execution_count": 0,
      "outputs": []
    },
    {
      "cell_type": "code",
      "metadata": {
        "id": "V1LK7pBcGzZj",
        "colab_type": "code",
        "colab": {
          "base_uri": "https://localhost:8080/",
          "height": 34
        },
        "outputId": "c12b3f5d-a88e-4b0f-ea10-6c25c52fead5"
      },
      "source": [
        "res = compare_table_of_contents(master, doc15)\n",
        "print(res)"
      ],
      "execution_count": 116,
      "outputs": [
        {
          "output_type": "stream",
          "text": [
            "True\n"
          ],
          "name": "stdout"
        }
      ]
    },
    {
      "cell_type": "code",
      "metadata": {
        "id": "HXbrOptaW5L-",
        "colab_type": "code",
        "colab": {
          "base_uri": "https://localhost:8080/",
          "height": 187
        },
        "outputId": "39e0b4cc-c022-4c2a-c1b6-1bfbc55bfef4"
      },
      "source": [
        "## Scale to all documents\n",
        "\n",
        "def compare_TOCs(doc_master, doc_list):\n",
        "  for doc in doc_list:\n",
        "    print(compare_table_of_contents(master, doc))\n",
        "    print(\"=\"*40)\n",
        "\n",
        "compare_TOCs(master, [doc10, doc14, doc15, doc16, doc18])"
      ],
      "execution_count": 134,
      "outputs": [
        {
          "output_type": "stream",
          "text": [
            "True\n",
            "========================================\n",
            "True\n",
            "========================================\n",
            "True\n",
            "========================================\n",
            "True\n",
            "========================================\n",
            "True\n",
            "========================================\n"
          ],
          "name": "stdout"
        }
      ]
    }
  ]
}