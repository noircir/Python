{
  "nbformat": 4,
  "nbformat_minor": 0,
  "metadata": {
    "colab": {
      "name": "004-Stopwords.ipynb",
      "provenance": [],
      "authorship_tag": "ABX9TyPNbtAO4QZJfgi94YDJ1YLo",
      "include_colab_link": true
    },
    "kernelspec": {
      "name": "python3",
      "display_name": "Python 3"
    }
  },
  "cells": [
    {
      "cell_type": "markdown",
      "metadata": {
        "id": "view-in-github",
        "colab_type": "text"
      },
      "source": [
        "<a href=\"https://colab.research.google.com/github/noircir/Python/blob/master/004_Stopwords.ipynb\" target=\"_parent\"><img src=\"https://colab.research.google.com/assets/colab-badge.svg\" alt=\"Open In Colab\"/></a>"
      ]
    },
    {
      "cell_type": "code",
      "metadata": {
        "id": "lmbXWa29oHlZ",
        "colab_type": "code",
        "colab": {}
      },
      "source": [
        "import spacy\n",
        "nlp = spacy.load('en_core_web_sm')"
      ],
      "execution_count": 0,
      "outputs": []
    },
    {
      "cell_type": "code",
      "metadata": {
        "id": "WBeMdL67pEe5",
        "colab_type": "code",
        "outputId": "15919b0f-e7d2-4a89-a785-68f69b62a885",
        "colab": {
          "base_uri": "https://localhost:8080/",
          "height": 54
        }
      },
      "source": [
        "print(nlp.Defaults.stop_words)"
      ],
      "execution_count": 0,
      "outputs": [
        {
          "output_type": "stream",
          "text": [
            "{'something', 'quite', 'fifty', 'each', 'top', 'that', 'wherever', 'could', 'hereafter', 'then', 'into', 'various', 'becoming', 'also', 'really', 'whoever', 'and', 'only', 'i', 'whereas', 'hereupon', 'latter', 'between', 'three', 'anywhere', 'would', 'own', 'you', 'above', \"'s\", 'thereafter', 'none', 'beforehand', \"'d\", 'others', 'say', 'there', 'cannot', 'it', 'next', 'empty', 'although', 'formerly', 'any', 'before', 'make', 'very', 'fifteen', 'much', 'keep', 'please', 'should', 'nor', 'otherwise', 'ourselves', 'they', 'we', 'yourselves', 'via', 'eight', 'all', 'will', '’re', 'because', 'are', 'except', 'ten', 'though', '’ve', 'whole', 'get', 'elsewhere', 'anyhow', 'can', 'just', 'them', 'yet', 'unless', 'thus', \"'re\", '‘ve', 'a', 'no', 'by', 'part', 'almost', 'themselves', 'her', 'ours', 'last', 'both', 'since', 'thereupon', 'at', 'twelve', 'itself', 'onto', 'somehow', 'now', 'whereafter', 'someone', 'done', 'meanwhile', 'still', 'due', 'down', 'had', 'across', 'ever', 'become', 'give', 'name', 'those', 'throughout', 'whether', 'beside', 'see', 'nevertheless', 'be', 'against', 'ca', 'as', 'even', 'else', 'put', \"'ve\", 'alone', 'out', 'bottom', 'seeming', 'am', 'same', 'his', 'amount', 'towards', 'latterly', 'noone', 'to', 'once', 'upon', 'while', 'first', 'me', 'n’t', 'doing', 'my', 'full', 'what', 'for', 'other', 'two', 'around', 'she', 'became', '‘s', \"'m\", 'neither', 'under', '‘ll', 'anyway', 'did', 'therefore', 'were', 'whose', 'side', 'your', 'us', 'several', 'among', 'myself', 'on', 'so', 'nobody', 'the', 'up', '‘m', 'regarding', 'below', 'nothing', 'or', 'always', 'our', 'whenever', 'hundred', 'one', 'hence', 'few', 'enough', 'made', 'mostly', 'than', 'thru', 'during', 'yourself', 'who', 'this', 'eleven', 'anything', 'he', 'here', 'everyone', 'toward', 'whereby', 'herein', 'namely', 'their', 'however', 'being', 'thereby', 'perhaps', 'least', 'most', 'five', 'somewhere', 'besides', 'without', 'sixty', 'within', 'over', 'not', 'might', 'himself', 'nowhere', '’d', 'been', 'with', 'have', 'anyone', '’ll', 'again', '‘re', '’m', 'do', 'everywhere', 'whom', 'him', 'either', 'from', 'its', 'moreover', 'go', 'through', 'used', 'has', 'another', 'until', 'after', 'mine', 'becomes', 'indeed', 're', 'whereupon', '’s', 'more', 'seemed', 'yours', 'herself', 'per', 'nine', 'third', 'further', 'wherein', 'along', 'everything', 'whence', 'an', 'former', 'about', 'already', 'if', 'some', 'using', 'but', 'must', 'six', 'why', 'every', 'hereby', 'of', 'beyond', 'well', \"n't\", 'was', 'behind', '‘d', 'amongst', 'seems', 'too', 'afterwards', 'take', 'does', 'when', 'less', \"'ll\", 'back', 'call', 'never', 'move', 'forty', 'hers', 'these', 'twenty', 'which', 'serious', 'four', 'whatever', 'n‘t', 'how', 'in', 'together', 'often', 'rather', 'may', 'sometime', 'such', 'sometimes', 'where', 'whither', 'seem', 'front', 'show', 'therein', 'off', 'many', 'is', 'thence'}\n"
          ],
          "name": "stdout"
        }
      ]
    },
    {
      "cell_type": "code",
      "metadata": {
        "id": "sRpVJl2HpHmJ",
        "colab_type": "code",
        "outputId": "d17dd6f4-54ba-403b-e18b-b05e64dda42f",
        "colab": {
          "base_uri": "https://localhost:8080/",
          "height": 34
        }
      },
      "source": [
        "len(nlp.Defaults.stop_words)"
      ],
      "execution_count": 0,
      "outputs": [
        {
          "output_type": "execute_result",
          "data": {
            "text/plain": [
              "326"
            ]
          },
          "metadata": {
            "tags": []
          },
          "execution_count": 3
        }
      ]
    },
    {
      "cell_type": "markdown",
      "metadata": {
        "id": "NxnXnqVgpWeB",
        "colab_type": "text"
      },
      "source": [
        "## To see if a word is a stop word"
      ]
    },
    {
      "cell_type": "code",
      "metadata": {
        "id": "_b28tEpVpKqi",
        "colab_type": "code",
        "outputId": "602936fb-8adc-4cd3-b884-95a3a1915f4f",
        "colab": {
          "base_uri": "https://localhost:8080/",
          "height": 34
        }
      },
      "source": [
        "nlp.vocab['myself'].is_stop"
      ],
      "execution_count": 0,
      "outputs": [
        {
          "output_type": "execute_result",
          "data": {
            "text/plain": [
              "True"
            ]
          },
          "metadata": {
            "tags": []
          },
          "execution_count": 4
        }
      ]
    },
    {
      "cell_type": "code",
      "metadata": {
        "id": "dc9RFp6Qpcdk",
        "colab_type": "code",
        "outputId": "1711f894-67bf-47e1-e89a-73a507c75642",
        "colab": {
          "base_uri": "https://localhost:8080/",
          "height": 34
        }
      },
      "source": [
        "nlp.vocab['mystery'].is_stop"
      ],
      "execution_count": 0,
      "outputs": [
        {
          "output_type": "execute_result",
          "data": {
            "text/plain": [
              "False"
            ]
          },
          "metadata": {
            "tags": []
          },
          "execution_count": 5
        }
      ]
    },
    {
      "cell_type": "markdown",
      "metadata": {
        "id": "LceTI7a_pfpL",
        "colab_type": "text"
      },
      "source": [
        "## To add a stopword"
      ]
    },
    {
      "cell_type": "code",
      "metadata": {
        "id": "zISICe9Zpe6x",
        "colab_type": "code",
        "colab": {}
      },
      "source": [
        "# Add the word to the set of stop words. Use lowercase!\n",
        "nlp.Defaults.stop_words.add('btw')\n",
        "\n",
        "# Set the stop_word tag on the lexeme\n",
        "nlp.vocab['btw'].is_stop = True"
      ],
      "execution_count": 0,
      "outputs": []
    },
    {
      "cell_type": "code",
      "metadata": {
        "id": "pkw0Pmc1plAv",
        "colab_type": "code",
        "outputId": "78061b84-02e5-473f-a619-6ebd2644ae61",
        "colab": {
          "base_uri": "https://localhost:8080/",
          "height": 34
        }
      },
      "source": [
        "len(nlp.Defaults.stop_words)"
      ],
      "execution_count": 0,
      "outputs": [
        {
          "output_type": "execute_result",
          "data": {
            "text/plain": [
              "327"
            ]
          },
          "metadata": {
            "tags": []
          },
          "execution_count": 7
        }
      ]
    },
    {
      "cell_type": "markdown",
      "metadata": {
        "id": "3jRzpvw9pzgh",
        "colab_type": "text"
      },
      "source": [
        "## To remove a stop word\n",
        "Alternatively, you may decide that `'beyond'` should not be considered a stop word."
      ]
    },
    {
      "cell_type": "code",
      "metadata": {
        "id": "XxkK7n2Kpslp",
        "colab_type": "code",
        "colab": {}
      },
      "source": [
        "# Remove the word from the set of stop words\n",
        "nlp.Defaults.stop_words.remove('beyond')\n",
        "\n",
        "# Remove the stop_word tag from the lexeme\n",
        "nlp.vocab['beyond'].is_stop = False"
      ],
      "execution_count": 0,
      "outputs": []
    },
    {
      "cell_type": "code",
      "metadata": {
        "id": "-v-o6vwFp4rc",
        "colab_type": "code",
        "outputId": "d286e7a3-d555-42e7-8fd9-1473464d2c98",
        "colab": {
          "base_uri": "https://localhost:8080/",
          "height": 34
        }
      },
      "source": [
        "len(nlp.Defaults.stop_words)"
      ],
      "execution_count": 0,
      "outputs": [
        {
          "output_type": "execute_result",
          "data": {
            "text/plain": [
              "326"
            ]
          },
          "metadata": {
            "tags": []
          },
          "execution_count": 9
        }
      ]
    },
    {
      "cell_type": "code",
      "metadata": {
        "id": "SW85eyREp6ZX",
        "colab_type": "code",
        "colab": {}
      },
      "source": [
        ""
      ],
      "execution_count": 0,
      "outputs": []
    }
  ]
}