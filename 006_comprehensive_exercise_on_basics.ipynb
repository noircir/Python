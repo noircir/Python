{
  "nbformat": 4,
  "nbformat_minor": 0,
  "metadata": {
    "colab": {
      "name": "006-comprehensive-exercise-on-basics.ipynb",
      "provenance": [],
      "mount_file_id": "1RNZ1FpdoC69Frasf-o1LLIpXSz3q_-tY",
      "authorship_tag": "ABX9TyPHiKaGcb4VjPza6Gw8+KXg",
      "include_colab_link": true
    },
    "kernelspec": {
      "name": "python3",
      "display_name": "Python 3"
    }
  },
  "cells": [
    {
      "cell_type": "markdown",
      "metadata": {
        "id": "view-in-github",
        "colab_type": "text"
      },
      "source": [
        "<a href=\"https://colab.research.google.com/github/noircir/Python/blob/master/006_comprehensive_exercise_on_basics.ipynb\" target=\"_parent\"><img src=\"https://colab.research.google.com/assets/colab-badge.svg\" alt=\"Open In Colab\"/></a>"
      ]
    },
    {
      "cell_type": "code",
      "metadata": {
        "id": "Y1k-DQz16rCZ",
        "colab_type": "code",
        "colab": {}
      },
      "source": [
        "import spacy\n",
        "nlp = spacy.load('en_core_web_sm')"
      ],
      "execution_count": 0,
      "outputs": []
    },
    {
      "cell_type": "code",
      "metadata": {
        "id": "j6VuSDmC7j5c",
        "colab_type": "code",
        "colab": {}
      },
      "source": [
        "with open('/content/drive/My Drive/Colab Notebooks/NLP-Spacy/TextFiles/owlcreek.txt') as f:\n",
        "    doc = nlp(f.read())"
      ],
      "execution_count": 0,
      "outputs": []
    },
    {
      "cell_type": "code",
      "metadata": {
        "id": "L5qoMf9d7u9I",
        "colab_type": "code",
        "outputId": "fc4ae8dd-2f9f-4bf3-f7dc-f43f061aff68",
        "colab": {
          "base_uri": "https://localhost:8080/",
          "height": 153
        }
      },
      "source": [
        "# Verify the doc\n",
        "doc[:36]"
      ],
      "execution_count": 0,
      "outputs": [
        {
          "output_type": "execute_result",
          "data": {
            "text/plain": [
              "AN OCCURRENCE AT OWL CREEK BRIDGE\n",
              "\n",
              "by Ambrose Bierce\n",
              "\n",
              "I\n",
              "\n",
              "A man stood upon a railroad bridge in northern Alabama, looking down\n",
              "into the swift water twenty feet below.  "
            ]
          },
          "metadata": {
            "tags": []
          },
          "execution_count": 3
        }
      ]
    },
    {
      "cell_type": "code",
      "metadata": {
        "id": "SWUCXdzV7z5D",
        "colab_type": "code",
        "outputId": "cd27f194-360e-4b3f-9458-107d67b4b21f",
        "colab": {
          "base_uri": "https://localhost:8080/",
          "height": 34
        }
      },
      "source": [
        "# How many tokens?\n",
        "len(doc)"
      ],
      "execution_count": 0,
      "outputs": [
        {
          "output_type": "execute_result",
          "data": {
            "text/plain": [
              "4833"
            ]
          },
          "metadata": {
            "tags": []
          },
          "execution_count": 4
        }
      ]
    },
    {
      "cell_type": "code",
      "metadata": {
        "id": "r85St_vX72-7",
        "colab_type": "code",
        "outputId": "7c77e455-6cd6-487f-f5bf-0690a72d7968",
        "colab": {
          "base_uri": "https://localhost:8080/",
          "height": 34
        }
      },
      "source": [
        "# How many sentences?\n",
        "sents = [sent for sent in doc.sents]\n",
        "len(sents)"
      ],
      "execution_count": 0,
      "outputs": [
        {
          "output_type": "execute_result",
          "data": {
            "text/plain": [
              "222"
            ]
          },
          "metadata": {
            "tags": []
          },
          "execution_count": 5
        }
      ]
    },
    {
      "cell_type": "code",
      "metadata": {
        "id": "civ_JLsL8BRl",
        "colab_type": "code",
        "outputId": "695098ca-9e3f-429c-8f7b-e7e91edac898",
        "colab": {
          "base_uri": "https://localhost:8080/",
          "height": 51
        }
      },
      "source": [
        "# The third sentence\n",
        "print(sents[2].text)"
      ],
      "execution_count": 0,
      "outputs": [
        {
          "output_type": "stream",
          "text": [
            "A man stood upon a railroad bridge in northern Alabama, looking down\n",
            "into the swift water twenty feet below.  \n"
          ],
          "name": "stdout"
        }
      ]
    },
    {
      "cell_type": "code",
      "metadata": {
        "id": "GE0hPI7H8F-F",
        "colab_type": "code",
        "outputId": "1e9af0a0-4f88-46f0-d63c-b12f572b4b68",
        "colab": {
          "base_uri": "https://localhost:8080/",
          "height": 442
        }
      },
      "source": [
        "# Print text, POS tag, dep tag and lemma\n",
        "\n",
        "for token in sents[2]:\n",
        "    print(token.text, token.pos_, token.dep_, token.lemma_)"
      ],
      "execution_count": 0,
      "outputs": [
        {
          "output_type": "stream",
          "text": [
            "A DET det a\n",
            "man NOUN nsubj man\n",
            "stood VERB ROOT stand\n",
            "upon ADP prep upon\n",
            "a DET det a\n",
            "railroad NOUN compound railroad\n",
            "bridge NOUN pobj bridge\n",
            "in ADP prep in\n",
            "northern ADJ amod northern\n",
            "Alabama PROPN pobj Alabama\n",
            ", PUNCT punct ,\n",
            "looking VERB advcl look\n",
            "down ADV advmod down\n",
            "\n",
            " SPACE  \n",
            "\n",
            "into ADP prep into\n",
            "the DET det the\n",
            "swift ADJ amod swift\n",
            "water NOUN pobj water\n",
            "twenty NUM nummod twenty\n",
            "feet NOUN npadvmod foot\n",
            "below ADV advmod below\n",
            ". PUNCT punct .\n",
            "  SPACE   \n"
          ],
          "name": "stdout"
        }
      ]
    },
    {
      "cell_type": "code",
      "metadata": {
        "id": "kGnM68Zp8do1",
        "colab_type": "code",
        "outputId": "f54be5c1-0516-458e-fac7-86493e934c40",
        "colab": {
          "base_uri": "https://localhost:8080/",
          "height": 442
        }
      },
      "source": [
        "# Formatted\n",
        "\n",
        "for token in sents[2]:\n",
        "    print(f'{token.text:{15}} {token.pos_:{5}} {token.dep_:{10}} {token.lemma_:{15}}')"
      ],
      "execution_count": 0,
      "outputs": [
        {
          "output_type": "stream",
          "text": [
            "A               DET   det        a              \n",
            "man             NOUN  nsubj      man            \n",
            "stood           VERB  ROOT       stand          \n",
            "upon            ADP   prep       upon           \n",
            "a               DET   det        a              \n",
            "railroad        NOUN  compound   railroad       \n",
            "bridge          NOUN  pobj       bridge         \n",
            "in              ADP   prep       in             \n",
            "northern        ADJ   amod       northern       \n",
            "Alabama         PROPN pobj       Alabama        \n",
            ",               PUNCT punct      ,              \n",
            "looking         VERB  advcl      look           \n",
            "down            ADV   advmod     down           \n",
            "\n",
            "               SPACE            \n",
            "              \n",
            "into            ADP   prep       into           \n",
            "the             DET   det        the            \n",
            "swift           ADJ   amod       swift          \n",
            "water           NOUN  pobj       water          \n",
            "twenty          NUM   nummod     twenty         \n",
            "feet            NOUN  npadvmod   foot           \n",
            "below           ADV   advmod     below          \n",
            ".               PUNCT punct      .              \n",
            "                SPACE                           \n"
          ],
          "name": "stdout"
        }
      ]
    },
    {
      "cell_type": "code",
      "metadata": {
        "id": "PsXDcSgz807W",
        "colab_type": "code",
        "outputId": "19ee6050-58e4-4db9-e884-80fbb23bb59f",
        "colab": {
          "base_uri": "https://localhost:8080/",
          "height": 34
        }
      },
      "source": [
        "# Write a matcher called 'Swimming' that finds both occurrences of the phrase \"swimming vigorously\" in the text\n",
        "\n",
        "from spacy.matcher import Matcher\n",
        "matcher = Matcher(nlp.vocab)\n",
        "\n",
        "pattern = [{'LOWER': 'swimming'}, {'IS_SPACE': True, 'OP':'*'}, {'LOWER': 'vigorously'}]\n",
        "matcher.add('Swimming', None, pattern)\n",
        "\n",
        "found_matches = matcher(doc)\n",
        "print(found_matches)"
      ],
      "execution_count": 0,
      "outputs": [
        {
          "output_type": "stream",
          "text": [
            "[(12881893835109366681, 1274, 1277), (12881893835109366681, 3607, 3610)]\n"
          ],
          "name": "stdout"
        }
      ]
    },
    {
      "cell_type": "code",
      "metadata": {
        "id": "cGZ-kSOO9PZi",
        "colab_type": "code",
        "outputId": "03f3186a-c326-4fc9-cbe0-7431d386fd26",
        "colab": {
          "base_uri": "https://localhost:8080/",
          "height": 51
        }
      },
      "source": [
        "print(doc[1265:1290])"
      ],
      "execution_count": 0,
      "outputs": [
        {
          "output_type": "stream",
          "text": [
            "By diving I could evade the bullets and, swimming\n",
            "vigorously, reach the bank, take to the woods and get away home\n"
          ],
          "name": "stdout"
        }
      ]
    },
    {
      "cell_type": "code",
      "metadata": {
        "id": "JxtUl0kr9TGM",
        "colab_type": "code",
        "outputId": "4f7862e9-9034-4547-a32e-4ad5f601f78e",
        "colab": {
          "base_uri": "https://localhost:8080/",
          "height": 51
        }
      },
      "source": [
        "print(doc[3600:3615])"
      ],
      "execution_count": 0,
      "outputs": [
        {
          "output_type": "stream",
          "text": [
            "over his shoulder; he was now swimming\n",
            "vigorously with the current.  \n"
          ],
          "name": "stdout"
        }
      ]
    },
    {
      "cell_type": "code",
      "metadata": {
        "id": "EvyO_Mat9WTG",
        "colab_type": "code",
        "outputId": "13317e9d-133a-4393-ad29-72337e40807b",
        "colab": {
          "base_uri": "https://localhost:8080/",
          "height": 51
        }
      },
      "source": [
        "for sent in sents:\n",
        "    if found_matches[0][1] < sent.end:\n",
        "        print(sent)\n",
        "        break"
      ],
      "execution_count": 0,
      "outputs": [
        {
          "output_type": "stream",
          "text": [
            "By diving I could evade the bullets and, swimming\n",
            "vigorously, reach the bank, take to the woods and get away home.  \n"
          ],
          "name": "stdout"
        }
      ]
    },
    {
      "cell_type": "code",
      "metadata": {
        "id": "auv9Z-i39ajo",
        "colab_type": "code",
        "outputId": "87547e82-a9d5-44f8-f651-10de06965020",
        "colab": {
          "base_uri": "https://localhost:8080/",
          "height": 51
        }
      },
      "source": [
        "for sent in sents:\n",
        "    if found_matches[1][1] < sent.end:\n",
        "        print(sent)\n",
        "        break"
      ],
      "execution_count": 0,
      "outputs": [
        {
          "output_type": "stream",
          "text": [
            "The hunted man saw all this over his shoulder; he was now swimming\n",
            "vigorously with the current.  \n"
          ],
          "name": "stdout"
        }
      ]
    },
    {
      "cell_type": "code",
      "metadata": {
        "id": "je5Fq5UI9d9F",
        "colab_type": "code",
        "colab": {}
      },
      "source": [
        ""
      ],
      "execution_count": 0,
      "outputs": []
    }
  ]
}